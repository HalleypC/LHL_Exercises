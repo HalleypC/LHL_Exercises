{
 "cells": [
  {
   "cell_type": "markdown",
   "metadata": {},
   "source": [
    "# XML exercise"
   ]
  },
  {
   "cell_type": "markdown",
   "metadata": {},
   "source": [
    "Using data from [**mondial database**](https://drive.google.com/file/d/14lFT4nWHgwN36ij4XZh6OUuup-K9qLgR/view?usp=sharing) find the answers to following questions:\n",
    "\n",
    "1. 10 countries with the lowest infant mortality rates\n",
    "2. 10 cities with the largest population\n",
    "3. name and country of a) longest river, b) largest lake and c) airport at highest elevation"
   ]
  },
  {
   "cell_type": "code",
   "execution_count": 3,
   "metadata": {},
   "outputs": [],
   "source": [
    "import pandas as pd\n",
    "import xml.etree.ElementTree as ET"
   ]
  },
  {
   "cell_type": "code",
   "execution_count": 4,
   "metadata": {},
   "outputs": [
    {
     "data": {
      "text/plain": [
       "<xml.etree.ElementTree.ElementTree at 0x2069de21c40>"
      ]
     },
     "execution_count": 4,
     "metadata": {},
     "output_type": "execute_result"
    }
   ],
   "source": [
    "tree = ET.parse('mondial.xml')\n",
    "tree"
   ]
  },
  {
   "cell_type": "code",
   "execution_count": 5,
   "metadata": {},
   "outputs": [
    {
     "data": {
      "text/plain": [
       "<Element 'mondial' at 0x00000206A0CBA810>"
      ]
     },
     "execution_count": 5,
     "metadata": {},
     "output_type": "execute_result"
    }
   ],
   "source": [
    "root = tree.getroot()\n",
    "root"
   ]
  },
  {
   "cell_type": "code",
   "execution_count": 6,
   "metadata": {},
   "outputs": [
    {
     "name": "stdout",
     "output_type": "stream",
     "text": [
      "mondial\n",
      "{}\n",
      "3403\n"
     ]
    }
   ],
   "source": [
    "print(root.tag)\n",
    "print(root.attrib)\n",
    "print(len(root))"
   ]
  },
  {
   "cell_type": "code",
   "execution_count": 7,
   "metadata": {},
   "outputs": [
    {
     "data": {
      "text/html": [
       "<div>\n",
       "<style scoped>\n",
       "    .dataframe tbody tr th:only-of-type {\n",
       "        vertical-align: middle;\n",
       "    }\n",
       "\n",
       "    .dataframe tbody tr th {\n",
       "        vertical-align: top;\n",
       "    }\n",
       "\n",
       "    .dataframe thead th {\n",
       "        text-align: right;\n",
       "    }\n",
       "</style>\n",
       "<table border=\"1\" class=\"dataframe\">\n",
       "  <thead>\n",
       "    <tr style=\"text-align: right;\">\n",
       "      <th></th>\n",
       "      <th>car_code</th>\n",
       "      <th>area</th>\n",
       "      <th>capital</th>\n",
       "      <th>memberships</th>\n",
       "      <th>name</th>\n",
       "      <th>population</th>\n",
       "      <th>population_growth</th>\n",
       "      <th>infant_mortality</th>\n",
       "      <th>gdp_total</th>\n",
       "      <th>gdp_agri</th>\n",
       "      <th>...</th>\n",
       "      <th>height</th>\n",
       "      <th>sea</th>\n",
       "      <th>islands</th>\n",
       "      <th>river</th>\n",
       "      <th>lake</th>\n",
       "      <th>last_eruption</th>\n",
       "      <th>mountains</th>\n",
       "      <th>iatacode</th>\n",
       "      <th>gmtOffset</th>\n",
       "      <th>located_on</th>\n",
       "    </tr>\n",
       "  </thead>\n",
       "  <tbody>\n",
       "    <tr>\n",
       "      <th>0</th>\n",
       "      <td>AL</td>\n",
       "      <td>28750.0</td>\n",
       "      <td>cty-Albania-Tirane</td>\n",
       "      <td>org-BSEC org-CEI org-CD org-SELEC org-CE org-E...</td>\n",
       "      <td>Albania</td>\n",
       "      <td>2821977.0</td>\n",
       "      <td>0.30</td>\n",
       "      <td>13.19</td>\n",
       "      <td>12800.0</td>\n",
       "      <td>19.5</td>\n",
       "      <td>...</td>\n",
       "      <td>NaN</td>\n",
       "      <td>None</td>\n",
       "      <td>None</td>\n",
       "      <td>None</td>\n",
       "      <td>None</td>\n",
       "      <td>None</td>\n",
       "      <td>None</td>\n",
       "      <td>None</td>\n",
       "      <td>NaN</td>\n",
       "      <td>NaN</td>\n",
       "    </tr>\n",
       "    <tr>\n",
       "      <th>1</th>\n",
       "      <td>GR</td>\n",
       "      <td>131940.0</td>\n",
       "      <td>cty-Greece-Athens</td>\n",
       "      <td>org-AG org-BIS org-BSEC org-CD org-SELEC org-C...</td>\n",
       "      <td>Greece</td>\n",
       "      <td>10816286.0</td>\n",
       "      <td>0.01</td>\n",
       "      <td>4.78</td>\n",
       "      <td>243300.0</td>\n",
       "      <td>3.5</td>\n",
       "      <td>...</td>\n",
       "      <td>NaN</td>\n",
       "      <td>None</td>\n",
       "      <td>None</td>\n",
       "      <td>None</td>\n",
       "      <td>None</td>\n",
       "      <td>None</td>\n",
       "      <td>None</td>\n",
       "      <td>None</td>\n",
       "      <td>NaN</td>\n",
       "      <td>NaN</td>\n",
       "    </tr>\n",
       "    <tr>\n",
       "      <th>2</th>\n",
       "      <td>MK</td>\n",
       "      <td>25333.0</td>\n",
       "      <td>cty-Macedonia-Skopje</td>\n",
       "      <td>org-BIS org-CEI org-CD org-SELEC org-CE org-EA...</td>\n",
       "      <td>North Macedonia</td>\n",
       "      <td>2059794.0</td>\n",
       "      <td>0.21</td>\n",
       "      <td>7.90</td>\n",
       "      <td>10650.0</td>\n",
       "      <td>10.2</td>\n",
       "      <td>...</td>\n",
       "      <td>NaN</td>\n",
       "      <td>None</td>\n",
       "      <td>None</td>\n",
       "      <td>None</td>\n",
       "      <td>None</td>\n",
       "      <td>None</td>\n",
       "      <td>None</td>\n",
       "      <td>None</td>\n",
       "      <td>NaN</td>\n",
       "      <td>NaN</td>\n",
       "    </tr>\n",
       "    <tr>\n",
       "      <th>3</th>\n",
       "      <td>SRB</td>\n",
       "      <td>77474.0</td>\n",
       "      <td>city-Belgrade-SRB-SRB</td>\n",
       "      <td>org-BIS org-BSEC org-CEI org-CD org-SELEC org-...</td>\n",
       "      <td>Serbia</td>\n",
       "      <td>7120666.0</td>\n",
       "      <td>-0.46</td>\n",
       "      <td>6.16</td>\n",
       "      <td>43680.0</td>\n",
       "      <td>7.9</td>\n",
       "      <td>...</td>\n",
       "      <td>NaN</td>\n",
       "      <td>None</td>\n",
       "      <td>None</td>\n",
       "      <td>None</td>\n",
       "      <td>None</td>\n",
       "      <td>None</td>\n",
       "      <td>None</td>\n",
       "      <td>None</td>\n",
       "      <td>NaN</td>\n",
       "      <td>NaN</td>\n",
       "    </tr>\n",
       "    <tr>\n",
       "      <th>4</th>\n",
       "      <td>MNE</td>\n",
       "      <td>14026.0</td>\n",
       "      <td>city-Podgorica-MNE-MNE</td>\n",
       "      <td>org-CEI org-CD org-SELEC org-CE org-EAPC org-E...</td>\n",
       "      <td>Montenegro</td>\n",
       "      <td>620029.0</td>\n",
       "      <td>-0.49</td>\n",
       "      <td>NaN</td>\n",
       "      <td>4518.0</td>\n",
       "      <td>0.8</td>\n",
       "      <td>...</td>\n",
       "      <td>NaN</td>\n",
       "      <td>None</td>\n",
       "      <td>None</td>\n",
       "      <td>None</td>\n",
       "      <td>None</td>\n",
       "      <td>None</td>\n",
       "      <td>None</td>\n",
       "      <td>None</td>\n",
       "      <td>NaN</td>\n",
       "      <td>NaN</td>\n",
       "    </tr>\n",
       "  </tbody>\n",
       "</table>\n",
       "<p>5 rows × 55 columns</p>\n",
       "</div>"
      ],
      "text/plain": [
       "  car_code      area                 capital  \\\n",
       "0       AL   28750.0      cty-Albania-Tirane   \n",
       "1       GR  131940.0       cty-Greece-Athens   \n",
       "2       MK   25333.0    cty-Macedonia-Skopje   \n",
       "3      SRB   77474.0   city-Belgrade-SRB-SRB   \n",
       "4      MNE   14026.0  city-Podgorica-MNE-MNE   \n",
       "\n",
       "                                         memberships             name  \\\n",
       "0  org-BSEC org-CEI org-CD org-SELEC org-CE org-E...          Albania   \n",
       "1  org-AG org-BIS org-BSEC org-CD org-SELEC org-C...           Greece   \n",
       "2  org-BIS org-CEI org-CD org-SELEC org-CE org-EA...  North Macedonia   \n",
       "3  org-BIS org-BSEC org-CEI org-CD org-SELEC org-...           Serbia   \n",
       "4  org-CEI org-CD org-SELEC org-CE org-EAPC org-E...       Montenegro   \n",
       "\n",
       "   population  population_growth  infant_mortality  gdp_total  gdp_agri  ...  \\\n",
       "0   2821977.0               0.30             13.19    12800.0      19.5  ...   \n",
       "1  10816286.0               0.01              4.78   243300.0       3.5  ...   \n",
       "2   2059794.0               0.21              7.90    10650.0      10.2  ...   \n",
       "3   7120666.0              -0.46              6.16    43680.0       7.9  ...   \n",
       "4    620029.0              -0.49               NaN     4518.0       0.8  ...   \n",
       "\n",
       "   height   sea  islands  river  lake last_eruption  mountains iatacode  \\\n",
       "0     NaN  None     None   None  None          None       None     None   \n",
       "1     NaN  None     None   None  None          None       None     None   \n",
       "2     NaN  None     None   None  None          None       None     None   \n",
       "3     NaN  None     None   None  None          None       None     None   \n",
       "4     NaN  None     None   None  None          None       None     None   \n",
       "\n",
       "  gmtOffset located_on  \n",
       "0       NaN        NaN  \n",
       "1       NaN        NaN  \n",
       "2       NaN        NaN  \n",
       "3       NaN        NaN  \n",
       "4       NaN        NaN  \n",
       "\n",
       "[5 rows x 55 columns]"
      ]
     },
     "execution_count": 7,
     "metadata": {},
     "output_type": "execute_result"
    }
   ],
   "source": [
    "monde = pd.read_xml('mondial.xml')\n",
    "monde.head()"
   ]
  },
  {
   "cell_type": "markdown",
   "metadata": {},
   "source": [
    "## 10 countries with the lowest infant mortality rates"
   ]
  },
  {
   "cell_type": "code",
   "execution_count": 19,
   "metadata": {},
   "outputs": [
    {
     "data": {
      "text/html": [
       "<div>\n",
       "<style scoped>\n",
       "    .dataframe tbody tr th:only-of-type {\n",
       "        vertical-align: middle;\n",
       "    }\n",
       "\n",
       "    .dataframe tbody tr th {\n",
       "        vertical-align: top;\n",
       "    }\n",
       "\n",
       "    .dataframe thead th {\n",
       "        text-align: right;\n",
       "    }\n",
       "</style>\n",
       "<table border=\"1\" class=\"dataframe\">\n",
       "  <thead>\n",
       "    <tr style=\"text-align: right;\">\n",
       "      <th></th>\n",
       "      <th>name</th>\n",
       "      <th>infant_mortality</th>\n",
       "    </tr>\n",
       "  </thead>\n",
       "  <tbody>\n",
       "    <tr>\n",
       "      <th>38</th>\n",
       "      <td>Monaco</td>\n",
       "      <td>1.81</td>\n",
       "    </tr>\n",
       "    <tr>\n",
       "      <th>98</th>\n",
       "      <td>Japan</td>\n",
       "      <td>2.13</td>\n",
       "    </tr>\n",
       "    <tr>\n",
       "      <th>117</th>\n",
       "      <td>Bermuda</td>\n",
       "      <td>2.48</td>\n",
       "    </tr>\n",
       "    <tr>\n",
       "      <th>36</th>\n",
       "      <td>Norway</td>\n",
       "      <td>2.48</td>\n",
       "    </tr>\n",
       "    <tr>\n",
       "      <th>106</th>\n",
       "      <td>Singapore</td>\n",
       "      <td>2.53</td>\n",
       "    </tr>\n",
       "    <tr>\n",
       "      <th>37</th>\n",
       "      <td>Sweden</td>\n",
       "      <td>2.60</td>\n",
       "    </tr>\n",
       "    <tr>\n",
       "      <th>10</th>\n",
       "      <td>Czech Republic</td>\n",
       "      <td>2.63</td>\n",
       "    </tr>\n",
       "    <tr>\n",
       "      <th>8</th>\n",
       "      <td>Spain</td>\n",
       "      <td>2.70</td>\n",
       "    </tr>\n",
       "    <tr>\n",
       "      <th>78</th>\n",
       "      <td>Hong Kong</td>\n",
       "      <td>2.73</td>\n",
       "    </tr>\n",
       "    <tr>\n",
       "      <th>79</th>\n",
       "      <td>Macao</td>\n",
       "      <td>3.13</td>\n",
       "    </tr>\n",
       "  </tbody>\n",
       "</table>\n",
       "</div>"
      ],
      "text/plain": [
       "               name  infant_mortality\n",
       "38           Monaco              1.81\n",
       "98            Japan              2.13\n",
       "117         Bermuda              2.48\n",
       "36           Norway              2.48\n",
       "106       Singapore              2.53\n",
       "37           Sweden              2.60\n",
       "10   Czech Republic              2.63\n",
       "8             Spain              2.70\n",
       "78        Hong Kong              2.73\n",
       "79            Macao              3.13"
      ]
     },
     "execution_count": 19,
     "metadata": {},
     "output_type": "execute_result"
    }
   ],
   "source": [
    "inf_mort = monde.sort_values('infant_mortality').head(10)\n",
    "inf_mort[['name','infant_mortality']]"
   ]
  },
  {
   "cell_type": "code",
   "execution_count": 62,
   "metadata": {},
   "outputs": [
    {
     "data": {
      "text/html": [
       "<div>\n",
       "<style scoped>\n",
       "    .dataframe tbody tr th:only-of-type {\n",
       "        vertical-align: middle;\n",
       "    }\n",
       "\n",
       "    .dataframe tbody tr th {\n",
       "        vertical-align: top;\n",
       "    }\n",
       "\n",
       "    .dataframe thead th {\n",
       "        text-align: right;\n",
       "    }\n",
       "</style>\n",
       "<table border=\"1\" class=\"dataframe\">\n",
       "  <thead>\n",
       "    <tr style=\"text-align: right;\">\n",
       "      <th></th>\n",
       "      <th>infant_mortality</th>\n",
       "    </tr>\n",
       "  </thead>\n",
       "  <tbody>\n",
       "    <tr>\n",
       "      <th>Monaco</th>\n",
       "      <td>1.81</td>\n",
       "    </tr>\n",
       "    <tr>\n",
       "      <th>Romania</th>\n",
       "      <td>10.16</td>\n",
       "    </tr>\n",
       "    <tr>\n",
       "      <th>Fiji</th>\n",
       "      <td>10.2</td>\n",
       "    </tr>\n",
       "    <tr>\n",
       "      <th>Brunei</th>\n",
       "      <td>10.48</td>\n",
       "    </tr>\n",
       "    <tr>\n",
       "      <th>Grenada</th>\n",
       "      <td>10.5</td>\n",
       "    </tr>\n",
       "    <tr>\n",
       "      <th>Mauritius</th>\n",
       "      <td>10.59</td>\n",
       "    </tr>\n",
       "    <tr>\n",
       "      <th>Panama</th>\n",
       "      <td>10.7</td>\n",
       "    </tr>\n",
       "    <tr>\n",
       "      <th>Seychelles</th>\n",
       "      <td>10.77</td>\n",
       "    </tr>\n",
       "    <tr>\n",
       "      <th>United Arab Emirates</th>\n",
       "      <td>10.92</td>\n",
       "    </tr>\n",
       "    <tr>\n",
       "      <th>Barbados</th>\n",
       "      <td>10.93</td>\n",
       "    </tr>\n",
       "  </tbody>\n",
       "</table>\n",
       "</div>"
      ],
      "text/plain": [
       "                     infant_mortality\n",
       "Monaco                           1.81\n",
       "Romania                         10.16\n",
       "Fiji                             10.2\n",
       "Brunei                          10.48\n",
       "Grenada                          10.5\n",
       "Mauritius                       10.59\n",
       "Panama                           10.7\n",
       "Seychelles                      10.77\n",
       "United Arab Emirates            10.92\n",
       "Barbados                        10.93"
      ]
     },
     "execution_count": 62,
     "metadata": {},
     "output_type": "execute_result"
    }
   ],
   "source": [
    "#MENTOR ANSWER\n",
    "#not sure why the numbers are so different\n",
    "\n",
    "import pandas as pd  \n",
    "inf_data = {} \n",
    "\n",
    "for element in tree.iterfind('country'):     \n",
    "    this_element= {}     \n",
    "    this_element[\"infant_mortality\"] = element.findtext('infant_mortality')     \n",
    "    inf_data[element.findtext('name')] = this_element\n",
    "    \n",
    "inf_data_pd = pd.DataFrame(inf_data).transpose() \n",
    "inf_data_pd.sort_values(\"infant_mortality\")[:10]"
   ]
  },
  {
   "cell_type": "markdown",
   "metadata": {},
   "source": [
    "## 10 cities with the largest population"
   ]
  },
  {
   "cell_type": "code",
   "execution_count": 20,
   "metadata": {
    "collapsed": true,
    "jupyter": {
     "outputs_hidden": true
    },
    "tags": []
   },
   "outputs": [
    {
     "data": {
      "text/plain": [
       "Index(['car_code', 'area', 'capital', 'memberships', 'name', 'population',\n",
       "       'population_growth', 'infant_mortality', 'gdp_total', 'gdp_agri',\n",
       "       'gdp_ind', 'gdp_serv', 'inflation', 'unemployment', 'indep_date',\n",
       "       'government', 'encompassed', 'ethnicgroup', 'religion', 'language',\n",
       "       'border', 'city', 'localname', 'province', 'dependent', 'id', 'headq',\n",
       "       'abbrev', 'established', 'members', 'country', 'bordering', 'located',\n",
       "       'depth', 'to', 'length', 'source', 'estuary', 'island', 'through',\n",
       "       'latitude', 'longitude', 'elevation', 'type', 'salinity', 'height',\n",
       "       'sea', 'islands', 'river', 'lake', 'last_eruption', 'mountains',\n",
       "       'iatacode', 'gmtOffset', 'located_on'],\n",
       "      dtype='object')"
      ]
     },
     "execution_count": 20,
     "metadata": {},
     "output_type": "execute_result"
    }
   ],
   "source": [
    "monde.columns"
   ]
  },
  {
   "cell_type": "code",
   "execution_count": 58,
   "metadata": {
    "collapsed": true,
    "jupyter": {
     "outputs_hidden": true
    },
    "tags": []
   },
   "outputs": [
    {
     "data": {
      "text/html": [
       "<div>\n",
       "<style scoped>\n",
       "    .dataframe tbody tr th:only-of-type {\n",
       "        vertical-align: middle;\n",
       "    }\n",
       "\n",
       "    .dataframe tbody tr th {\n",
       "        vertical-align: top;\n",
       "    }\n",
       "\n",
       "    .dataframe thead th {\n",
       "        text-align: right;\n",
       "    }\n",
       "</style>\n",
       "<table border=\"1\" class=\"dataframe\">\n",
       "  <thead>\n",
       "    <tr style=\"text-align: right;\">\n",
       "      <th></th>\n",
       "      <th>capital</th>\n",
       "      <th>population</th>\n",
       "    </tr>\n",
       "  </thead>\n",
       "  <tbody>\n",
       "    <tr>\n",
       "      <th>0</th>\n",
       "      <td>cty-Albania-Tirane</td>\n",
       "      <td>2821977.0</td>\n",
       "    </tr>\n",
       "    <tr>\n",
       "      <th>1</th>\n",
       "      <td>cty-Greece-Athens</td>\n",
       "      <td>10816286.0</td>\n",
       "    </tr>\n",
       "  </tbody>\n",
       "</table>\n",
       "</div>"
      ],
      "text/plain": [
       "              capital  population\n",
       "0  cty-Albania-Tirane   2821977.0\n",
       "1   cty-Greece-Athens  10816286.0"
      ]
     },
     "execution_count": 58,
     "metadata": {},
     "output_type": "execute_result"
    }
   ],
   "source": [
    "monde[['capital','population']].head(2)\n",
    "#but these populations are for the country not the cities, we need to find the city pop within the .xml"
   ]
  },
  {
   "cell_type": "code",
   "execution_count": 63,
   "metadata": {},
   "outputs": [],
   "source": [
    "#MENTOR SOLUTION\n",
    "city_data = {} \n",
    "\n",
    "for element in tree.iterfind('country'):          #iternation find, looks for country\n",
    "    cities = element.findall('city')              #now find all the cities within that country\n",
    "    if len(cities) == 0:                          #if you have cities within this country\n",
    "        cities = element.findall(\"province/city\") #inside the 2nd level city, look for prov then city in one step     there is a city in 2nd and 3rd level\n",
    "        for subelement in cities:                 #subelement is prov or city name.\n",
    "            this_element= {}                      #empty dict where we will store the following data for each prov/city\n",
    "            try:                                  #use try bc there may be null values. \n",
    "                this_element[\"population\"] = int(subelement.findall('population')[-1].text)       #store all populations in dict \"this_element\", then grab the last one [-1]. Subelement = the city you are looking at. .text is grabbing the actual value\n",
    "            except:                               # skip if null \n",
    "                pass             \n",
    "                #print element.findall('city')                           \n",
    "            city_data[subelement.findtext('name')] = this_element              #city_data is the home for your city : pop. \"subelement.findtext('name')\" defining your keys, \"this_element\" = value (population)\n"
   ]
  },
  {
   "cell_type": "code",
   "execution_count": 69,
   "metadata": {},
   "outputs": [
    {
     "data": {
      "text/html": [
       "<div>\n",
       "<style scoped>\n",
       "    .dataframe tbody tr th:only-of-type {\n",
       "        vertical-align: middle;\n",
       "    }\n",
       "\n",
       "    .dataframe tbody tr th {\n",
       "        vertical-align: top;\n",
       "    }\n",
       "\n",
       "    .dataframe thead th {\n",
       "        text-align: right;\n",
       "    }\n",
       "</style>\n",
       "<table border=\"1\" class=\"dataframe\">\n",
       "  <thead>\n",
       "    <tr style=\"text-align: right;\">\n",
       "      <th></th>\n",
       "      <th>population</th>\n",
       "    </tr>\n",
       "  </thead>\n",
       "  <tbody>\n",
       "    <tr>\n",
       "      <th>Komotini</th>\n",
       "      <td>NaN</td>\n",
       "    </tr>\n",
       "    <tr>\n",
       "      <th>Kavala</th>\n",
       "      <td>58790.0</td>\n",
       "    </tr>\n",
       "    <tr>\n",
       "      <th>Athina</th>\n",
       "      <td>664046.0</td>\n",
       "    </tr>\n",
       "    <tr>\n",
       "      <th>Peiraias</th>\n",
       "      <td>163688.0</td>\n",
       "    </tr>\n",
       "    <tr>\n",
       "      <th>Peristeri</th>\n",
       "      <td>139981.0</td>\n",
       "    </tr>\n",
       "  </tbody>\n",
       "</table>\n",
       "</div>"
      ],
      "text/plain": [
       "           population\n",
       "Komotini          NaN\n",
       "Kavala        58790.0\n",
       "Athina       664046.0\n",
       "Peiraias     163688.0\n",
       "Peristeri    139981.0"
      ]
     },
     "execution_count": 69,
     "metadata": {},
     "output_type": "execute_result"
    }
   ],
   "source": [
    "city_data_pd = pd.DataFrame(city_data).transpose() \n",
    "city_data_pd.head()"
   ]
  },
  {
   "cell_type": "code",
   "execution_count": 66,
   "metadata": {},
   "outputs": [
    {
     "data": {
      "text/html": [
       "<div>\n",
       "<style scoped>\n",
       "    .dataframe tbody tr th:only-of-type {\n",
       "        vertical-align: middle;\n",
       "    }\n",
       "\n",
       "    .dataframe tbody tr th {\n",
       "        vertical-align: top;\n",
       "    }\n",
       "\n",
       "    .dataframe thead th {\n",
       "        text-align: right;\n",
       "    }\n",
       "</style>\n",
       "<table border=\"1\" class=\"dataframe\">\n",
       "  <thead>\n",
       "    <tr style=\"text-align: right;\">\n",
       "      <th></th>\n",
       "      <th>population</th>\n",
       "    </tr>\n",
       "  </thead>\n",
       "  <tbody>\n",
       "    <tr>\n",
       "      <th>Shanghai</th>\n",
       "      <td>22315474.0</td>\n",
       "    </tr>\n",
       "    <tr>\n",
       "      <th>Karachi</th>\n",
       "      <td>14916456.0</td>\n",
       "    </tr>\n",
       "    <tr>\n",
       "      <th>Lagos</th>\n",
       "      <td>13745000.0</td>\n",
       "    </tr>\n",
       "    <tr>\n",
       "      <th>Istanbul</th>\n",
       "      <td>13710512.0</td>\n",
       "    </tr>\n",
       "    <tr>\n",
       "      <th>Mumbai</th>\n",
       "      <td>12442373.0</td>\n",
       "    </tr>\n",
       "    <tr>\n",
       "      <th>Moskva</th>\n",
       "      <td>11979529.0</td>\n",
       "    </tr>\n",
       "    <tr>\n",
       "      <th>Beijing</th>\n",
       "      <td>11716620.0</td>\n",
       "    </tr>\n",
       "    <tr>\n",
       "      <th>Kinshasa</th>\n",
       "      <td>11575000.0</td>\n",
       "    </tr>\n",
       "    <tr>\n",
       "      <th>São Paulo</th>\n",
       "      <td>11152344.0</td>\n",
       "    </tr>\n",
       "    <tr>\n",
       "      <th>Lahore</th>\n",
       "      <td>11126285.0</td>\n",
       "    </tr>\n",
       "  </tbody>\n",
       "</table>\n",
       "</div>"
      ],
      "text/plain": [
       "           population\n",
       "Shanghai   22315474.0\n",
       "Karachi    14916456.0\n",
       "Lagos      13745000.0\n",
       "Istanbul   13710512.0\n",
       "Mumbai     12442373.0\n",
       "Moskva     11979529.0\n",
       "Beijing    11716620.0\n",
       "Kinshasa   11575000.0\n",
       "São Paulo  11152344.0\n",
       "Lahore     11126285.0"
      ]
     },
     "execution_count": 66,
     "metadata": {},
     "output_type": "execute_result"
    }
   ],
   "source": [
    "#THE SOLUTION\n",
    "city_data_pd.sort_values(\"population\", ascending=False)[:10]"
   ]
  },
  {
   "cell_type": "code",
   "execution_count": null,
   "metadata": {},
   "outputs": [],
   "source": []
  },
  {
   "cell_type": "markdown",
   "metadata": {},
   "source": [
    "## name and country of a) longest river, b) largest lake and c) airport at highest elevation"
   ]
  },
  {
   "cell_type": "code",
   "execution_count": 12,
   "metadata": {},
   "outputs": [
    {
     "data": {
      "text/plain": [
       "Index(['car_code', 'area', 'capital', 'memberships', 'name', 'population',\n",
       "       'population_growth', 'infant_mortality', 'gdp_total', 'gdp_agri',\n",
       "       'gdp_ind', 'gdp_serv', 'inflation', 'unemployment', 'indep_date',\n",
       "       'government', 'encompassed', 'ethnicgroup', 'religion', 'language',\n",
       "       'border', 'city', 'localname', 'province', 'dependent', 'id', 'headq',\n",
       "       'abbrev', 'established', 'members', 'country', 'bordering', 'located',\n",
       "       'depth', 'to', 'length', 'source', 'estuary', 'island', 'through',\n",
       "       'latitude', 'longitude', 'elevation', 'type', 'salinity', 'height',\n",
       "       'sea', 'islands', 'river', 'lake', 'last_eruption', 'mountains',\n",
       "       'iatacode', 'gmtOffset', 'located_on'],\n",
       "      dtype='object')"
      ]
     },
     "execution_count": 12,
     "metadata": {},
     "output_type": "execute_result"
    }
   ],
   "source": [
    "#print list of col headers\n",
    "monde.columns"
   ]
  },
  {
   "cell_type": "markdown",
   "metadata": {},
   "source": [
    "### A) longest river"
   ]
  },
  {
   "cell_type": "code",
   "execution_count": 79,
   "metadata": {
    "tags": []
   },
   "outputs": [
    {
     "data": {
      "text/html": [
       "<div>\n",
       "<style scoped>\n",
       "    .dataframe tbody tr th:only-of-type {\n",
       "        vertical-align: middle;\n",
       "    }\n",
       "\n",
       "    .dataframe tbody tr th {\n",
       "        vertical-align: top;\n",
       "    }\n",
       "\n",
       "    .dataframe thead th {\n",
       "        text-align: right;\n",
       "    }\n",
       "</style>\n",
       "<table border=\"1\" class=\"dataframe\">\n",
       "  <thead>\n",
       "    <tr style=\"text-align: right;\">\n",
       "      <th></th>\n",
       "      <th>length</th>\n",
       "      <th>country</th>\n",
       "    </tr>\n",
       "  </thead>\n",
       "  <tbody>\n",
       "    <tr>\n",
       "      <th>Thjorsa</th>\n",
       "      <td>230.0</td>\n",
       "      <td>IS</td>\n",
       "    </tr>\n",
       "    <tr>\n",
       "      <th>Jökulsa a Fjöllum</th>\n",
       "      <td>206.0</td>\n",
       "      <td>IS</td>\n",
       "    </tr>\n",
       "    <tr>\n",
       "      <th>Thames</th>\n",
       "      <td>346.0</td>\n",
       "      <td>GB</td>\n",
       "    </tr>\n",
       "    <tr>\n",
       "      <th>Severn</th>\n",
       "      <td>354.0</td>\n",
       "      <td>GB</td>\n",
       "    </tr>\n",
       "    <tr>\n",
       "      <th>Trent</th>\n",
       "      <td>298.0</td>\n",
       "      <td>GB</td>\n",
       "    </tr>\n",
       "  </tbody>\n",
       "</table>\n",
       "</div>"
      ],
      "text/plain": [
       "                  length country\n",
       "Thjorsa            230.0      IS\n",
       "Jökulsa a Fjöllum  206.0      IS\n",
       "Thames             346.0      GB\n",
       "Severn             354.0      GB\n",
       "Trent              298.0      GB"
      ]
     },
     "execution_count": 79,
     "metadata": {},
     "output_type": "execute_result"
    }
   ],
   "source": [
    "#longest river\n",
    "\n",
    "rivers = {}\n",
    "\n",
    "for element in tree.iterfind('river'):                                                    # <ELEMENT> elements are in <> in xml. Look for any element with river\n",
    "    try:\n",
    "        rivers[element.findtext('name')] = {'length': float(element.findtext('length')), \n",
    "                                            'country': element.attrib['country']}\n",
    "    except:\n",
    "        pass\n",
    "    \n",
    "rivers_pd = pd.DataFrame(rivers).transpose() \n",
    "rivers_pd.head()"
   ]
  },
  {
   "cell_type": "code",
   "execution_count": 81,
   "metadata": {},
   "outputs": [
    {
     "data": {
      "text/html": [
       "<div>\n",
       "<style scoped>\n",
       "    .dataframe tbody tr th:only-of-type {\n",
       "        vertical-align: middle;\n",
       "    }\n",
       "\n",
       "    .dataframe tbody tr th {\n",
       "        vertical-align: top;\n",
       "    }\n",
       "\n",
       "    .dataframe thead th {\n",
       "        text-align: right;\n",
       "    }\n",
       "</style>\n",
       "<table border=\"1\" class=\"dataframe\">\n",
       "  <thead>\n",
       "    <tr style=\"text-align: right;\">\n",
       "      <th></th>\n",
       "      <th>length</th>\n",
       "      <th>country</th>\n",
       "    </tr>\n",
       "  </thead>\n",
       "  <tbody>\n",
       "    <tr>\n",
       "      <th>Yangtze</th>\n",
       "      <td>6380.0</td>\n",
       "      <td>CN</td>\n",
       "    </tr>\n",
       "  </tbody>\n",
       "</table>\n",
       "</div>"
      ],
      "text/plain": [
       "         length country\n",
       "Yangtze  6380.0      CN"
      ]
     },
     "execution_count": 81,
     "metadata": {},
     "output_type": "execute_result"
    }
   ],
   "source": [
    "#THE SOLUTION\n",
    "rivers_pd.sort_values(\"length\", ascending=False)[:1]"
   ]
  },
  {
   "cell_type": "markdown",
   "metadata": {},
   "source": [
    "### Largest lake"
   ]
  },
  {
   "cell_type": "code",
   "execution_count": 82,
   "metadata": {},
   "outputs": [
    {
     "data": {
      "text/html": [
       "<div>\n",
       "<style scoped>\n",
       "    .dataframe tbody tr th:only-of-type {\n",
       "        vertical-align: middle;\n",
       "    }\n",
       "\n",
       "    .dataframe tbody tr th {\n",
       "        vertical-align: top;\n",
       "    }\n",
       "\n",
       "    .dataframe thead th {\n",
       "        text-align: right;\n",
       "    }\n",
       "</style>\n",
       "<table border=\"1\" class=\"dataframe\">\n",
       "  <thead>\n",
       "    <tr style=\"text-align: right;\">\n",
       "      <th></th>\n",
       "      <th>area</th>\n",
       "      <th>country</th>\n",
       "    </tr>\n",
       "  </thead>\n",
       "  <tbody>\n",
       "    <tr>\n",
       "      <th>Inarijärvi</th>\n",
       "      <td>1040.0</td>\n",
       "      <td>SF</td>\n",
       "    </tr>\n",
       "    <tr>\n",
       "      <th>Oulujärvi</th>\n",
       "      <td>928.0</td>\n",
       "      <td>SF</td>\n",
       "    </tr>\n",
       "    <tr>\n",
       "      <th>Saimaa</th>\n",
       "      <td>4370.0</td>\n",
       "      <td>SF</td>\n",
       "    </tr>\n",
       "    <tr>\n",
       "      <th>Päijänne</th>\n",
       "      <td>1118.0</td>\n",
       "      <td>SF</td>\n",
       "    </tr>\n",
       "    <tr>\n",
       "      <th>Mjoesa-See</th>\n",
       "      <td>368.0</td>\n",
       "      <td>N</td>\n",
       "    </tr>\n",
       "  </tbody>\n",
       "</table>\n",
       "</div>"
      ],
      "text/plain": [
       "              area country\n",
       "Inarijärvi  1040.0      SF\n",
       "Oulujärvi    928.0      SF\n",
       "Saimaa      4370.0      SF\n",
       "Päijänne    1118.0      SF\n",
       "Mjoesa-See   368.0       N"
      ]
     },
     "execution_count": 82,
     "metadata": {},
     "output_type": "execute_result"
    }
   ],
   "source": [
    "lakes = {}\n",
    "\n",
    "for element in tree.iterfind('lake'):                                                    # <ELEMENT> elements are in <> in xml. Look for any element with lake\n",
    "    try:\n",
    "        lakes[element.findtext('name')] = {'area': float(element.findtext('area')), \n",
    "                                            'country': element.attrib['country']}\n",
    "    except:\n",
    "        pass\n",
    "    \n",
    "lakes_pd = pd.DataFrame(lakes).transpose() \n",
    "lakes_pd.head()"
   ]
  },
  {
   "cell_type": "code",
   "execution_count": 83,
   "metadata": {},
   "outputs": [
    {
     "data": {
      "text/html": [
       "<div>\n",
       "<style scoped>\n",
       "    .dataframe tbody tr th:only-of-type {\n",
       "        vertical-align: middle;\n",
       "    }\n",
       "\n",
       "    .dataframe tbody tr th {\n",
       "        vertical-align: top;\n",
       "    }\n",
       "\n",
       "    .dataframe thead th {\n",
       "        text-align: right;\n",
       "    }\n",
       "</style>\n",
       "<table border=\"1\" class=\"dataframe\">\n",
       "  <thead>\n",
       "    <tr style=\"text-align: right;\">\n",
       "      <th></th>\n",
       "      <th>area</th>\n",
       "      <th>country</th>\n",
       "    </tr>\n",
       "  </thead>\n",
       "  <tbody>\n",
       "    <tr>\n",
       "      <th>Caspian Sea</th>\n",
       "      <td>386400.0</td>\n",
       "      <td>R AZ KAZ IR TM</td>\n",
       "    </tr>\n",
       "  </tbody>\n",
       "</table>\n",
       "</div>"
      ],
      "text/plain": [
       "                 area         country\n",
       "Caspian Sea  386400.0  R AZ KAZ IR TM"
      ]
     },
     "execution_count": 83,
     "metadata": {},
     "output_type": "execute_result"
    }
   ],
   "source": [
    "#THE SOLUTION\n",
    "lakes_pd.sort_values(\"area\", ascending=False)[:1]"
   ]
  },
  {
   "cell_type": "markdown",
   "metadata": {},
   "source": [
    "### airport at highest elevation"
   ]
  },
  {
   "cell_type": "code",
   "execution_count": 84,
   "metadata": {},
   "outputs": [
    {
     "data": {
      "text/html": [
       "<div>\n",
       "<style scoped>\n",
       "    .dataframe tbody tr th:only-of-type {\n",
       "        vertical-align: middle;\n",
       "    }\n",
       "\n",
       "    .dataframe tbody tr th {\n",
       "        vertical-align: top;\n",
       "    }\n",
       "\n",
       "    .dataframe thead th {\n",
       "        text-align: right;\n",
       "    }\n",
       "</style>\n",
       "<table border=\"1\" class=\"dataframe\">\n",
       "  <thead>\n",
       "    <tr style=\"text-align: right;\">\n",
       "      <th></th>\n",
       "      <th>elevation</th>\n",
       "      <th>country</th>\n",
       "    </tr>\n",
       "  </thead>\n",
       "  <tbody>\n",
       "    <tr>\n",
       "      <th>Herat</th>\n",
       "      <td>977.0</td>\n",
       "      <td>AFG</td>\n",
       "    </tr>\n",
       "    <tr>\n",
       "      <th>Kabul Intl</th>\n",
       "      <td>1792.0</td>\n",
       "      <td>AFG</td>\n",
       "    </tr>\n",
       "    <tr>\n",
       "      <th>Tirana Rinas</th>\n",
       "      <td>38.0</td>\n",
       "      <td>AL</td>\n",
       "    </tr>\n",
       "    <tr>\n",
       "      <th>Cheikh Larbi Tebessi</th>\n",
       "      <td>811.0</td>\n",
       "      <td>DZ</td>\n",
       "    </tr>\n",
       "    <tr>\n",
       "      <th>Batna Airport</th>\n",
       "      <td>822.0</td>\n",
       "      <td>DZ</td>\n",
       "    </tr>\n",
       "  </tbody>\n",
       "</table>\n",
       "</div>"
      ],
      "text/plain": [
       "                     elevation country\n",
       "Herat                    977.0     AFG\n",
       "Kabul Intl              1792.0     AFG\n",
       "Tirana Rinas              38.0      AL\n",
       "Cheikh Larbi Tebessi     811.0      DZ\n",
       "Batna Airport            822.0      DZ"
      ]
     },
     "execution_count": 84,
     "metadata": {},
     "output_type": "execute_result"
    }
   ],
   "source": [
    "airp = {}\n",
    "\n",
    "for element in tree.iterfind('airport'):                                                    # <ELEMENT> elements are in <> in xml. Look for any element with airport\n",
    "    try:\n",
    "        airp[element.findtext('name')] = {'elevation': float(element.findtext('elevation')), \n",
    "                                            'country': element.attrib['country']}\n",
    "    except:\n",
    "        pass\n",
    "    \n",
    "airp_pd = pd.DataFrame(airp).transpose() \n",
    "airp_pd.head()"
   ]
  },
  {
   "cell_type": "code",
   "execution_count": 85,
   "metadata": {},
   "outputs": [
    {
     "data": {
      "text/html": [
       "<div>\n",
       "<style scoped>\n",
       "    .dataframe tbody tr th:only-of-type {\n",
       "        vertical-align: middle;\n",
       "    }\n",
       "\n",
       "    .dataframe tbody tr th {\n",
       "        vertical-align: top;\n",
       "    }\n",
       "\n",
       "    .dataframe thead th {\n",
       "        text-align: right;\n",
       "    }\n",
       "</style>\n",
       "<table border=\"1\" class=\"dataframe\">\n",
       "  <thead>\n",
       "    <tr style=\"text-align: right;\">\n",
       "      <th></th>\n",
       "      <th>elevation</th>\n",
       "      <th>country</th>\n",
       "    </tr>\n",
       "  </thead>\n",
       "  <tbody>\n",
       "    <tr>\n",
       "      <th>El Alto Intl</th>\n",
       "      <td>4063.0</td>\n",
       "      <td>BOL</td>\n",
       "    </tr>\n",
       "  </tbody>\n",
       "</table>\n",
       "</div>"
      ],
      "text/plain": [
       "             elevation country\n",
       "El Alto Intl    4063.0     BOL"
      ]
     },
     "execution_count": 85,
     "metadata": {},
     "output_type": "execute_result"
    }
   ],
   "source": [
    "#THE SOLUTION\n",
    "airp_pd.sort_values(\"elevation\", ascending=False)[:1]"
   ]
  },
  {
   "cell_type": "code",
   "execution_count": null,
   "metadata": {},
   "outputs": [],
   "source": []
  }
 ],
 "metadata": {
  "anaconda-cloud": {},
  "kernelspec": {
   "display_name": "lighthouse_env",
   "language": "python",
   "name": "lighthouse_env"
  },
  "language_info": {
   "codemirror_mode": {
    "name": "ipython",
    "version": 3
   },
   "file_extension": ".py",
   "mimetype": "text/x-python",
   "name": "python",
   "nbconvert_exporter": "python",
   "pygments_lexer": "ipython3",
   "version": "3.9.13"
  }
 },
 "nbformat": 4,
 "nbformat_minor": 4
}
