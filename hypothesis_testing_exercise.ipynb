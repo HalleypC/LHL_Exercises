{
 "cells": [
  {
   "cell_type": "markdown",
   "metadata": {},
   "source": [
    "## Hypothesis Testing Assignment"
   ]
  },
  {
   "cell_type": "code",
   "execution_count": 54,
   "metadata": {},
   "outputs": [],
   "source": [
    "#Importing necessary packages\n",
    "import pandas as pd\n",
    "import numpy as np\n",
    "# package with hypothesis tests\n",
    "import scipy.stats as st"
   ]
  },
  {
   "cell_type": "markdown",
   "metadata": {},
   "source": [
    "### Data"
   ]
  },
  {
   "cell_type": "markdown",
   "metadata": {},
   "source": [
    "You can download the data from [**here**](https://drive.google.com/file/d/0Bz9_0VdXvv9bUUNlUTVrMF9VcVU/view?usp=sharing&resourcekey=0-16O9Fc5eaJH99-M7AHqHOg). The data contains results of all NBA games from seasons 2013/2014 to 2015/2016."
   ]
  },
  {
   "cell_type": "code",
   "execution_count": 55,
   "metadata": {},
   "outputs": [
    {
     "data": {
      "text/html": [
       "<div>\n",
       "<style scoped>\n",
       "    .dataframe tbody tr th:only-of-type {\n",
       "        vertical-align: middle;\n",
       "    }\n",
       "\n",
       "    .dataframe tbody tr th {\n",
       "        vertical-align: top;\n",
       "    }\n",
       "\n",
       "    .dataframe thead th {\n",
       "        text-align: right;\n",
       "    }\n",
       "</style>\n",
       "<table border=\"1\" class=\"dataframe\">\n",
       "  <thead>\n",
       "    <tr style=\"text-align: right;\">\n",
       "      <th></th>\n",
       "      <th>SEASON_ID</th>\n",
       "      <th>TEAM_ID</th>\n",
       "      <th>TEAM_ABBREVIATION</th>\n",
       "      <th>TEAM_NAME</th>\n",
       "      <th>GAME_ID</th>\n",
       "      <th>GAME_DATE</th>\n",
       "      <th>MATCHUP</th>\n",
       "      <th>WL</th>\n",
       "      <th>MIN</th>\n",
       "      <th>PTS</th>\n",
       "      <th>...</th>\n",
       "      <th>FT_PCT</th>\n",
       "      <th>OREB</th>\n",
       "      <th>DREB</th>\n",
       "      <th>REB</th>\n",
       "      <th>AST</th>\n",
       "      <th>STL</th>\n",
       "      <th>BLK</th>\n",
       "      <th>TOV</th>\n",
       "      <th>PF</th>\n",
       "      <th>PLUS_MINUS</th>\n",
       "    </tr>\n",
       "  </thead>\n",
       "  <tbody>\n",
       "    <tr>\n",
       "      <th>0</th>\n",
       "      <td>22015</td>\n",
       "      <td>1610612750</td>\n",
       "      <td>MIN</td>\n",
       "      <td>Minnesota Timberwolves</td>\n",
       "      <td>21501226</td>\n",
       "      <td>2016-04-13</td>\n",
       "      <td>MIN vs. NOP</td>\n",
       "      <td>W</td>\n",
       "      <td>240</td>\n",
       "      <td>144</td>\n",
       "      <td>...</td>\n",
       "      <td>0.826</td>\n",
       "      <td>5</td>\n",
       "      <td>38</td>\n",
       "      <td>43</td>\n",
       "      <td>41</td>\n",
       "      <td>14</td>\n",
       "      <td>8</td>\n",
       "      <td>13</td>\n",
       "      <td>20</td>\n",
       "      <td>35.0</td>\n",
       "    </tr>\n",
       "    <tr>\n",
       "      <th>1</th>\n",
       "      <td>22015</td>\n",
       "      <td>1610612749</td>\n",
       "      <td>MIL</td>\n",
       "      <td>Milwaukee Bucks</td>\n",
       "      <td>21501225</td>\n",
       "      <td>2016-04-13</td>\n",
       "      <td>MIL vs. IND</td>\n",
       "      <td>L</td>\n",
       "      <td>240</td>\n",
       "      <td>92</td>\n",
       "      <td>...</td>\n",
       "      <td>0.846</td>\n",
       "      <td>7</td>\n",
       "      <td>36</td>\n",
       "      <td>43</td>\n",
       "      <td>23</td>\n",
       "      <td>8</td>\n",
       "      <td>3</td>\n",
       "      <td>15</td>\n",
       "      <td>15</td>\n",
       "      <td>-5.0</td>\n",
       "    </tr>\n",
       "    <tr>\n",
       "      <th>2</th>\n",
       "      <td>22015</td>\n",
       "      <td>1610612738</td>\n",
       "      <td>BOS</td>\n",
       "      <td>Boston Celtics</td>\n",
       "      <td>21501217</td>\n",
       "      <td>2016-04-13</td>\n",
       "      <td>BOS vs. MIA</td>\n",
       "      <td>W</td>\n",
       "      <td>240</td>\n",
       "      <td>98</td>\n",
       "      <td>...</td>\n",
       "      <td>0.864</td>\n",
       "      <td>10</td>\n",
       "      <td>29</td>\n",
       "      <td>39</td>\n",
       "      <td>20</td>\n",
       "      <td>7</td>\n",
       "      <td>3</td>\n",
       "      <td>7</td>\n",
       "      <td>20</td>\n",
       "      <td>10.0</td>\n",
       "    </tr>\n",
       "    <tr>\n",
       "      <th>3</th>\n",
       "      <td>22015</td>\n",
       "      <td>1610612747</td>\n",
       "      <td>LAL</td>\n",
       "      <td>Los Angeles Lakers</td>\n",
       "      <td>21501228</td>\n",
       "      <td>2016-04-13</td>\n",
       "      <td>LAL vs. UTA</td>\n",
       "      <td>W</td>\n",
       "      <td>239</td>\n",
       "      <td>101</td>\n",
       "      <td>...</td>\n",
       "      <td>0.867</td>\n",
       "      <td>8</td>\n",
       "      <td>39</td>\n",
       "      <td>47</td>\n",
       "      <td>19</td>\n",
       "      <td>6</td>\n",
       "      <td>3</td>\n",
       "      <td>13</td>\n",
       "      <td>17</td>\n",
       "      <td>5.0</td>\n",
       "    </tr>\n",
       "    <tr>\n",
       "      <th>4</th>\n",
       "      <td>22015</td>\n",
       "      <td>1610612739</td>\n",
       "      <td>CLE</td>\n",
       "      <td>Cleveland Cavaliers</td>\n",
       "      <td>21501220</td>\n",
       "      <td>2016-04-13</td>\n",
       "      <td>CLE vs. DET</td>\n",
       "      <td>L</td>\n",
       "      <td>265</td>\n",
       "      <td>110</td>\n",
       "      <td>...</td>\n",
       "      <td>0.733</td>\n",
       "      <td>8</td>\n",
       "      <td>35</td>\n",
       "      <td>43</td>\n",
       "      <td>21</td>\n",
       "      <td>4</td>\n",
       "      <td>7</td>\n",
       "      <td>10</td>\n",
       "      <td>23</td>\n",
       "      <td>-2.0</td>\n",
       "    </tr>\n",
       "    <tr>\n",
       "      <th>...</th>\n",
       "      <td>...</td>\n",
       "      <td>...</td>\n",
       "      <td>...</td>\n",
       "      <td>...</td>\n",
       "      <td>...</td>\n",
       "      <td>...</td>\n",
       "      <td>...</td>\n",
       "      <td>...</td>\n",
       "      <td>...</td>\n",
       "      <td>...</td>\n",
       "      <td>...</td>\n",
       "      <td>...</td>\n",
       "      <td>...</td>\n",
       "      <td>...</td>\n",
       "      <td>...</td>\n",
       "      <td>...</td>\n",
       "      <td>...</td>\n",
       "      <td>...</td>\n",
       "      <td>...</td>\n",
       "      <td>...</td>\n",
       "      <td>...</td>\n",
       "    </tr>\n",
       "    <tr>\n",
       "      <th>7375</th>\n",
       "      <td>22013</td>\n",
       "      <td>1610612753</td>\n",
       "      <td>ORL</td>\n",
       "      <td>Orlando Magic</td>\n",
       "      <td>21300001</td>\n",
       "      <td>2013-10-29</td>\n",
       "      <td>ORL @ IND</td>\n",
       "      <td>L</td>\n",
       "      <td>241</td>\n",
       "      <td>87</td>\n",
       "      <td>...</td>\n",
       "      <td>0.600</td>\n",
       "      <td>13</td>\n",
       "      <td>26</td>\n",
       "      <td>39</td>\n",
       "      <td>17</td>\n",
       "      <td>10</td>\n",
       "      <td>6</td>\n",
       "      <td>17</td>\n",
       "      <td>26</td>\n",
       "      <td>-10.0</td>\n",
       "    </tr>\n",
       "    <tr>\n",
       "      <th>7376</th>\n",
       "      <td>22013</td>\n",
       "      <td>1610612748</td>\n",
       "      <td>MIA</td>\n",
       "      <td>Miami Heat</td>\n",
       "      <td>21300002</td>\n",
       "      <td>2013-10-29</td>\n",
       "      <td>MIA vs. CHI</td>\n",
       "      <td>W</td>\n",
       "      <td>239</td>\n",
       "      <td>107</td>\n",
       "      <td>...</td>\n",
       "      <td>0.759</td>\n",
       "      <td>5</td>\n",
       "      <td>35</td>\n",
       "      <td>40</td>\n",
       "      <td>26</td>\n",
       "      <td>10</td>\n",
       "      <td>7</td>\n",
       "      <td>18</td>\n",
       "      <td>21</td>\n",
       "      <td>12.0</td>\n",
       "    </tr>\n",
       "    <tr>\n",
       "      <th>7377</th>\n",
       "      <td>22013</td>\n",
       "      <td>1610612747</td>\n",
       "      <td>LAL</td>\n",
       "      <td>Los Angeles Lakers</td>\n",
       "      <td>21300003</td>\n",
       "      <td>2013-10-29</td>\n",
       "      <td>LAL vs. LAC</td>\n",
       "      <td>W</td>\n",
       "      <td>240</td>\n",
       "      <td>116</td>\n",
       "      <td>...</td>\n",
       "      <td>0.643</td>\n",
       "      <td>18</td>\n",
       "      <td>34</td>\n",
       "      <td>52</td>\n",
       "      <td>23</td>\n",
       "      <td>8</td>\n",
       "      <td>6</td>\n",
       "      <td>19</td>\n",
       "      <td>23</td>\n",
       "      <td>13.0</td>\n",
       "    </tr>\n",
       "    <tr>\n",
       "      <th>7378</th>\n",
       "      <td>22013</td>\n",
       "      <td>1610612741</td>\n",
       "      <td>CHI</td>\n",
       "      <td>Chicago Bulls</td>\n",
       "      <td>21300002</td>\n",
       "      <td>2013-10-29</td>\n",
       "      <td>CHI @ MIA</td>\n",
       "      <td>L</td>\n",
       "      <td>238</td>\n",
       "      <td>95</td>\n",
       "      <td>...</td>\n",
       "      <td>0.783</td>\n",
       "      <td>11</td>\n",
       "      <td>30</td>\n",
       "      <td>41</td>\n",
       "      <td>23</td>\n",
       "      <td>11</td>\n",
       "      <td>4</td>\n",
       "      <td>18</td>\n",
       "      <td>27</td>\n",
       "      <td>-12.0</td>\n",
       "    </tr>\n",
       "    <tr>\n",
       "      <th>7379</th>\n",
       "      <td>22013</td>\n",
       "      <td>1610612754</td>\n",
       "      <td>IND</td>\n",
       "      <td>Indiana Pacers</td>\n",
       "      <td>21300001</td>\n",
       "      <td>2013-10-29</td>\n",
       "      <td>IND vs. ORL</td>\n",
       "      <td>W</td>\n",
       "      <td>241</td>\n",
       "      <td>97</td>\n",
       "      <td>...</td>\n",
       "      <td>0.688</td>\n",
       "      <td>10</td>\n",
       "      <td>34</td>\n",
       "      <td>44</td>\n",
       "      <td>17</td>\n",
       "      <td>4</td>\n",
       "      <td>18</td>\n",
       "      <td>20</td>\n",
       "      <td>13</td>\n",
       "      <td>10.0</td>\n",
       "    </tr>\n",
       "  </tbody>\n",
       "</table>\n",
       "<p>7380 rows × 28 columns</p>\n",
       "</div>"
      ],
      "text/plain": [
       "      SEASON_ID     TEAM_ID TEAM_ABBREVIATION               TEAM_NAME  \\\n",
       "0         22015  1610612750               MIN  Minnesota Timberwolves   \n",
       "1         22015  1610612749               MIL         Milwaukee Bucks   \n",
       "2         22015  1610612738               BOS          Boston Celtics   \n",
       "3         22015  1610612747               LAL      Los Angeles Lakers   \n",
       "4         22015  1610612739               CLE     Cleveland Cavaliers   \n",
       "...         ...         ...               ...                     ...   \n",
       "7375      22013  1610612753               ORL           Orlando Magic   \n",
       "7376      22013  1610612748               MIA              Miami Heat   \n",
       "7377      22013  1610612747               LAL      Los Angeles Lakers   \n",
       "7378      22013  1610612741               CHI           Chicago Bulls   \n",
       "7379      22013  1610612754               IND          Indiana Pacers   \n",
       "\n",
       "       GAME_ID   GAME_DATE      MATCHUP WL  MIN  PTS  ...  FT_PCT  OREB  DREB  \\\n",
       "0     21501226  2016-04-13  MIN vs. NOP  W  240  144  ...   0.826     5    38   \n",
       "1     21501225  2016-04-13  MIL vs. IND  L  240   92  ...   0.846     7    36   \n",
       "2     21501217  2016-04-13  BOS vs. MIA  W  240   98  ...   0.864    10    29   \n",
       "3     21501228  2016-04-13  LAL vs. UTA  W  239  101  ...   0.867     8    39   \n",
       "4     21501220  2016-04-13  CLE vs. DET  L  265  110  ...   0.733     8    35   \n",
       "...        ...         ...          ... ..  ...  ...  ...     ...   ...   ...   \n",
       "7375  21300001  2013-10-29    ORL @ IND  L  241   87  ...   0.600    13    26   \n",
       "7376  21300002  2013-10-29  MIA vs. CHI  W  239  107  ...   0.759     5    35   \n",
       "7377  21300003  2013-10-29  LAL vs. LAC  W  240  116  ...   0.643    18    34   \n",
       "7378  21300002  2013-10-29    CHI @ MIA  L  238   95  ...   0.783    11    30   \n",
       "7379  21300001  2013-10-29  IND vs. ORL  W  241   97  ...   0.688    10    34   \n",
       "\n",
       "      REB  AST  STL  BLK  TOV  PF  PLUS_MINUS  \n",
       "0      43   41   14    8   13  20        35.0  \n",
       "1      43   23    8    3   15  15        -5.0  \n",
       "2      39   20    7    3    7  20        10.0  \n",
       "3      47   19    6    3   13  17         5.0  \n",
       "4      43   21    4    7   10  23        -2.0  \n",
       "...   ...  ...  ...  ...  ...  ..         ...  \n",
       "7375   39   17   10    6   17  26       -10.0  \n",
       "7376   40   26   10    7   18  21        12.0  \n",
       "7377   52   23    8    6   19  23        13.0  \n",
       "7378   41   23   11    4   18  27       -12.0  \n",
       "7379   44   17    4   18   20  13        10.0  \n",
       "\n",
       "[7380 rows x 28 columns]"
      ]
     },
     "execution_count": 55,
     "metadata": {},
     "output_type": "execute_result"
    }
   ],
   "source": [
    "df = pd.read_csv(\"nba_games_2013_2015.csv\", delimiter =\";\")\n",
    "df"
   ]
  },
  {
   "cell_type": "code",
   "execution_count": null,
   "metadata": {},
   "outputs": [],
   "source": []
  },
  {
   "cell_type": "markdown",
   "metadata": {},
   "source": [
    "--------------\n",
    "### Task 1\n",
    "Split the data into **3** separate dataframes for each NBA season!"
   ]
  },
  {
   "cell_type": "code",
   "execution_count": 56,
   "metadata": {},
   "outputs": [],
   "source": [
    "df_13 = df[(df['SEASON_ID'] == 22013)]\n",
    "df_14 = df[(df['SEASON_ID'] == 22014)]\n",
    "df_15 = df[(df['SEASON_ID'] == 22015)]"
   ]
  },
  {
   "cell_type": "markdown",
   "metadata": {},
   "source": [
    "---------------\n",
    "### Task 2\n",
    "Test the hypothesis that the offensive productions stats of the Cleveland Cavaliers and Golden State Warriors (the teams that met in the finals that year) were from the same distribution in the 2015/2016 season.\n",
    "\n",
    "Offensive production refers to two variables: **PTS (Points)** and **FG_PCT (Field Goal Percentage)**. We will need to do two separate hypothesis tests, one for each variable."
   ]
  },
  {
   "cell_type": "code",
   "execution_count": null,
   "metadata": {},
   "outputs": [],
   "source": [
    "#t-test indep samples test\n",
    "# scipy.stats.ttest_ind(a, b, axis=0, equal_var=True, nan_policy='propagate', permutations=None, random_state=None, alternative='two-sided', trim=0)"
   ]
  },
  {
   "cell_type": "code",
   "execution_count": 8,
   "metadata": {},
   "outputs": [],
   "source": [
    "#df for each team for the 15 season\n",
    "df_CLE = df_15[df_15[\"TEAM_ABBREVIATION\"] == \"CLE\"]\n",
    "df_GSW = df_15[df_15[\"TEAM_ABBREVIATION\"] == \"GSW\"]\n",
    "\n",
    "#pts for each team\n",
    "CLE_PTS = df_CLE[\"PTS\"]\n",
    "GSW_PTS = df_GSW[\"PTS\"]\n",
    "\n",
    "#FG for each team\n",
    "CLE_FG = df_CLE[\"FG_PCT\"]\n",
    "GSW_FG = df_GSW[\"FG_PCT\"]"
   ]
  },
  {
   "cell_type": "code",
   "execution_count": 9,
   "metadata": {},
   "outputs": [
    {
     "data": {
      "text/plain": [
       "Ttest_indResult(statistic=-5.973920595717936, pvalue=1.4233420547764935e-08)"
      ]
     },
     "execution_count": 9,
     "metadata": {},
     "output_type": "execute_result"
    }
   ],
   "source": [
    "# independent t tests for points\n",
    "st.ttest_ind(CLE_PTS, GSW_PTS)"
   ]
  },
  {
   "cell_type": "code",
   "execution_count": 41,
   "metadata": {},
   "outputs": [],
   "source": [
    "# p-val = 0.05 usually\n",
    "# we can reject the null hyp bc p-val < 0.05\n",
    "# since our p-val is reaaaaly small the distributions for both teams are different\n",
    "# if the p-val is close to 0.05 then we can see if the distributions are similar (maybe visually)"
   ]
  },
  {
   "cell_type": "code",
   "execution_count": 10,
   "metadata": {},
   "outputs": [
    {
     "data": {
      "text/plain": [
       "Ttest_indResult(statistic=-3.13195297595825, pvalue=0.00206097581047554)"
      ]
     },
     "execution_count": 10,
     "metadata": {},
     "output_type": "execute_result"
    }
   ],
   "source": [
    "# independent t tests for field goal percentage\n",
    "st.ttest_ind(CLE_FG, GSW_FG)"
   ]
  },
  {
   "cell_type": "code",
   "execution_count": 45,
   "metadata": {},
   "outputs": [],
   "source": [
    "# 0.002 is still v small. not close enough to 0.05 to draw any conclusions about the similarity of distributions. still different dists.\n",
    "#we can reject null!!!"
   ]
  },
  {
   "cell_type": "code",
   "execution_count": 16,
   "metadata": {},
   "outputs": [
    {
     "name": "stdout",
     "output_type": "stream",
     "text": [
      "Null hypothesis tested: The PTS are the same distribution for CLE and GSW for the season\n",
      "P-val = 0.00206097581047554\n",
      " Result: Reject the null hypothesis; samples are significantly different.\n",
      "\n",
      "Null hypothesis tested: The FGP are the same distribution for CLE and GSW for the season\n",
      "P-val = 1.4233420547764935e-08\n",
      " Result: Reject the null hypothesis; samples are significantly different.\n",
      "\n"
     ]
    }
   ],
   "source": [
    "# Function to interperet the results for us\n",
    "def indttest_results(x1, x2, nullhyp, alpha):\n",
    "    ttest = st.ttest_ind(x1, x2)\n",
    "    print(f'Null hypothesis tested: {nullhyp}')\n",
    "    if ttest[1] < alpha:\n",
    "        print(f'P-val = {ttest[1]}\\n Result: Reject the null hypothesis; samples are significantly different.\\n')\n",
    "    else:\n",
    "        print(f'P-val = {ttest[1]}\\n Result: Fail to reject the null hypothesis.\\n')\n",
    "        \n",
    "indttest_results(CLE_FG, GSW_FG, 'The PTS are the same distribution for CLE and GSW for the season', 0.05)\n",
    "indttest_results(CLE_PTS, GSW_PTS, 'The FGP are the same distribution for CLE and GSW for the season', 0.05)\n",
    "    "
   ]
  },
  {
   "cell_type": "markdown",
   "metadata": {},
   "source": [
    "-----------------\n",
    "### Task 3\n",
    "Test the hypothesis that the number of points (PTS) scored by Cleveland Cavaliers changed significantly after the head coach changed in the 2015/2016 season.\n",
    "\n",
    "- **Coach Blatt was fired on 24th of Jan, 2016**. \n",
    "\n",
    "Use the data from seasons 2014/2015 and 2015/2016 - those are years when Cleveland was coached by Blatt. \n",
    "\n",
    "**We have two possible solutions to try here:**\n",
    "- Take the same amount of games from before and after and try t-test.\n",
    "- Take all the games from before and after and look for the right test to compare two samples with different sizes. (You will need to go through the scipy documentation or google to figure out what kind of test is required.)"
   ]
  },
  {
   "cell_type": "code",
   "execution_count": 50,
   "metadata": {},
   "outputs": [
    {
     "data": {
      "text/html": [
       "<div>\n",
       "<style scoped>\n",
       "    .dataframe tbody tr th:only-of-type {\n",
       "        vertical-align: middle;\n",
       "    }\n",
       "\n",
       "    .dataframe tbody tr th {\n",
       "        vertical-align: top;\n",
       "    }\n",
       "\n",
       "    .dataframe thead th {\n",
       "        text-align: right;\n",
       "    }\n",
       "</style>\n",
       "<table border=\"1\" class=\"dataframe\">\n",
       "  <thead>\n",
       "    <tr style=\"text-align: right;\">\n",
       "      <th></th>\n",
       "      <th>SEASON_ID</th>\n",
       "      <th>TEAM_ID</th>\n",
       "      <th>TEAM_ABBREVIATION</th>\n",
       "      <th>TEAM_NAME</th>\n",
       "      <th>GAME_ID</th>\n",
       "      <th>GAME_DATE</th>\n",
       "      <th>MATCHUP</th>\n",
       "      <th>WL</th>\n",
       "      <th>MIN</th>\n",
       "      <th>PTS</th>\n",
       "      <th>...</th>\n",
       "      <th>FT_PCT</th>\n",
       "      <th>OREB</th>\n",
       "      <th>DREB</th>\n",
       "      <th>REB</th>\n",
       "      <th>AST</th>\n",
       "      <th>STL</th>\n",
       "      <th>BLK</th>\n",
       "      <th>TOV</th>\n",
       "      <th>PF</th>\n",
       "      <th>PLUS_MINUS</th>\n",
       "    </tr>\n",
       "  </thead>\n",
       "  <tbody>\n",
       "    <tr>\n",
       "      <th>1143</th>\n",
       "      <td>22015</td>\n",
       "      <td>1610612739</td>\n",
       "      <td>CLE</td>\n",
       "      <td>Cleveland Cavaliers</td>\n",
       "      <td>21500659</td>\n",
       "      <td>2016-01-23</td>\n",
       "      <td>CLE vs. CHI</td>\n",
       "      <td>L</td>\n",
       "      <td>241</td>\n",
       "      <td>83</td>\n",
       "      <td>...</td>\n",
       "      <td>0.409</td>\n",
       "      <td>16</td>\n",
       "      <td>32</td>\n",
       "      <td>48</td>\n",
       "      <td>17</td>\n",
       "      <td>5</td>\n",
       "      <td>5</td>\n",
       "      <td>4</td>\n",
       "      <td>18</td>\n",
       "      <td>-13.0</td>\n",
       "    </tr>\n",
       "    <tr>\n",
       "      <th>1176</th>\n",
       "      <td>22015</td>\n",
       "      <td>1610612739</td>\n",
       "      <td>CLE</td>\n",
       "      <td>Cleveland Cavaliers</td>\n",
       "      <td>21500640</td>\n",
       "      <td>2016-01-21</td>\n",
       "      <td>CLE vs. LAC</td>\n",
       "      <td>W</td>\n",
       "      <td>239</td>\n",
       "      <td>115</td>\n",
       "      <td>...</td>\n",
       "      <td>0.750</td>\n",
       "      <td>14</td>\n",
       "      <td>33</td>\n",
       "      <td>47</td>\n",
       "      <td>29</td>\n",
       "      <td>5</td>\n",
       "      <td>2</td>\n",
       "      <td>13</td>\n",
       "      <td>31</td>\n",
       "      <td>13.0</td>\n",
       "    </tr>\n",
       "    <tr>\n",
       "      <th>1195</th>\n",
       "      <td>22015</td>\n",
       "      <td>1610612739</td>\n",
       "      <td>CLE</td>\n",
       "      <td>Cleveland Cavaliers</td>\n",
       "      <td>21500631</td>\n",
       "      <td>2016-01-20</td>\n",
       "      <td>CLE @ BKN</td>\n",
       "      <td>W</td>\n",
       "      <td>240</td>\n",
       "      <td>91</td>\n",
       "      <td>...</td>\n",
       "      <td>0.700</td>\n",
       "      <td>6</td>\n",
       "      <td>39</td>\n",
       "      <td>45</td>\n",
       "      <td>15</td>\n",
       "      <td>6</td>\n",
       "      <td>3</td>\n",
       "      <td>13</td>\n",
       "      <td>13</td>\n",
       "      <td>13.0</td>\n",
       "    </tr>\n",
       "    <tr>\n",
       "      <th>1218</th>\n",
       "      <td>22015</td>\n",
       "      <td>1610612739</td>\n",
       "      <td>CLE</td>\n",
       "      <td>Cleveland Cavaliers</td>\n",
       "      <td>21500622</td>\n",
       "      <td>2016-01-18</td>\n",
       "      <td>CLE vs. GSW</td>\n",
       "      <td>L</td>\n",
       "      <td>240</td>\n",
       "      <td>98</td>\n",
       "      <td>...</td>\n",
       "      <td>0.680</td>\n",
       "      <td>8</td>\n",
       "      <td>28</td>\n",
       "      <td>36</td>\n",
       "      <td>22</td>\n",
       "      <td>3</td>\n",
       "      <td>4</td>\n",
       "      <td>15</td>\n",
       "      <td>25</td>\n",
       "      <td>-34.0</td>\n",
       "    </tr>\n",
       "    <tr>\n",
       "      <th>1270</th>\n",
       "      <td>22015</td>\n",
       "      <td>1610612739</td>\n",
       "      <td>CLE</td>\n",
       "      <td>Cleveland Cavaliers</td>\n",
       "      <td>21500601</td>\n",
       "      <td>2016-01-15</td>\n",
       "      <td>CLE @ HOU</td>\n",
       "      <td>W</td>\n",
       "      <td>241</td>\n",
       "      <td>91</td>\n",
       "      <td>...</td>\n",
       "      <td>0.652</td>\n",
       "      <td>17</td>\n",
       "      <td>32</td>\n",
       "      <td>49</td>\n",
       "      <td>19</td>\n",
       "      <td>10</td>\n",
       "      <td>6</td>\n",
       "      <td>14</td>\n",
       "      <td>24</td>\n",
       "      <td>14.0</td>\n",
       "    </tr>\n",
       "    <tr>\n",
       "      <th>...</th>\n",
       "      <td>...</td>\n",
       "      <td>...</td>\n",
       "      <td>...</td>\n",
       "      <td>...</td>\n",
       "      <td>...</td>\n",
       "      <td>...</td>\n",
       "      <td>...</td>\n",
       "      <td>...</td>\n",
       "      <td>...</td>\n",
       "      <td>...</td>\n",
       "      <td>...</td>\n",
       "      <td>...</td>\n",
       "      <td>...</td>\n",
       "      <td>...</td>\n",
       "      <td>...</td>\n",
       "      <td>...</td>\n",
       "      <td>...</td>\n",
       "      <td>...</td>\n",
       "      <td>...</td>\n",
       "      <td>...</td>\n",
       "      <td>...</td>\n",
       "    </tr>\n",
       "    <tr>\n",
       "      <th>7248</th>\n",
       "      <td>22013</td>\n",
       "      <td>1610612739</td>\n",
       "      <td>CLE</td>\n",
       "      <td>Cleveland Cavaliers</td>\n",
       "      <td>21300066</td>\n",
       "      <td>2013-11-06</td>\n",
       "      <td>CLE @ MIL</td>\n",
       "      <td>L</td>\n",
       "      <td>240</td>\n",
       "      <td>104</td>\n",
       "      <td>...</td>\n",
       "      <td>0.727</td>\n",
       "      <td>12</td>\n",
       "      <td>27</td>\n",
       "      <td>39</td>\n",
       "      <td>20</td>\n",
       "      <td>10</td>\n",
       "      <td>2</td>\n",
       "      <td>9</td>\n",
       "      <td>21</td>\n",
       "      <td>-5.0</td>\n",
       "    </tr>\n",
       "    <tr>\n",
       "      <th>7282</th>\n",
       "      <td>22013</td>\n",
       "      <td>1610612739</td>\n",
       "      <td>CLE</td>\n",
       "      <td>Cleveland Cavaliers</td>\n",
       "      <td>21300047</td>\n",
       "      <td>2013-11-04</td>\n",
       "      <td>CLE vs. MIN</td>\n",
       "      <td>W</td>\n",
       "      <td>240</td>\n",
       "      <td>93</td>\n",
       "      <td>...</td>\n",
       "      <td>0.909</td>\n",
       "      <td>11</td>\n",
       "      <td>38</td>\n",
       "      <td>49</td>\n",
       "      <td>22</td>\n",
       "      <td>10</td>\n",
       "      <td>12</td>\n",
       "      <td>23</td>\n",
       "      <td>24</td>\n",
       "      <td>1.0</td>\n",
       "    </tr>\n",
       "    <tr>\n",
       "      <th>7303</th>\n",
       "      <td>22013</td>\n",
       "      <td>1610612739</td>\n",
       "      <td>CLE</td>\n",
       "      <td>Cleveland Cavaliers</td>\n",
       "      <td>21300033</td>\n",
       "      <td>2013-11-02</td>\n",
       "      <td>CLE @ IND</td>\n",
       "      <td>L</td>\n",
       "      <td>240</td>\n",
       "      <td>74</td>\n",
       "      <td>...</td>\n",
       "      <td>0.867</td>\n",
       "      <td>6</td>\n",
       "      <td>31</td>\n",
       "      <td>37</td>\n",
       "      <td>11</td>\n",
       "      <td>15</td>\n",
       "      <td>1</td>\n",
       "      <td>16</td>\n",
       "      <td>25</td>\n",
       "      <td>-15.0</td>\n",
       "    </tr>\n",
       "    <tr>\n",
       "      <th>7316</th>\n",
       "      <td>22013</td>\n",
       "      <td>1610612739</td>\n",
       "      <td>CLE</td>\n",
       "      <td>Cleveland Cavaliers</td>\n",
       "      <td>21300020</td>\n",
       "      <td>2013-11-01</td>\n",
       "      <td>CLE @ CHA</td>\n",
       "      <td>L</td>\n",
       "      <td>241</td>\n",
       "      <td>84</td>\n",
       "      <td>...</td>\n",
       "      <td>0.727</td>\n",
       "      <td>11</td>\n",
       "      <td>31</td>\n",
       "      <td>42</td>\n",
       "      <td>14</td>\n",
       "      <td>9</td>\n",
       "      <td>1</td>\n",
       "      <td>17</td>\n",
       "      <td>29</td>\n",
       "      <td>-6.0</td>\n",
       "    </tr>\n",
       "    <tr>\n",
       "      <th>7355</th>\n",
       "      <td>22013</td>\n",
       "      <td>1610612739</td>\n",
       "      <td>CLE</td>\n",
       "      <td>Cleveland Cavaliers</td>\n",
       "      <td>21300004</td>\n",
       "      <td>2013-10-30</td>\n",
       "      <td>CLE vs. BKN</td>\n",
       "      <td>W</td>\n",
       "      <td>241</td>\n",
       "      <td>98</td>\n",
       "      <td>...</td>\n",
       "      <td>0.676</td>\n",
       "      <td>16</td>\n",
       "      <td>32</td>\n",
       "      <td>48</td>\n",
       "      <td>21</td>\n",
       "      <td>7</td>\n",
       "      <td>3</td>\n",
       "      <td>11</td>\n",
       "      <td>20</td>\n",
       "      <td>4.0</td>\n",
       "    </tr>\n",
       "  </tbody>\n",
       "</table>\n",
       "<p>206 rows × 28 columns</p>\n",
       "</div>"
      ],
      "text/plain": [
       "      SEASON_ID     TEAM_ID TEAM_ABBREVIATION            TEAM_NAME   GAME_ID  \\\n",
       "1143      22015  1610612739               CLE  Cleveland Cavaliers  21500659   \n",
       "1176      22015  1610612739               CLE  Cleveland Cavaliers  21500640   \n",
       "1195      22015  1610612739               CLE  Cleveland Cavaliers  21500631   \n",
       "1218      22015  1610612739               CLE  Cleveland Cavaliers  21500622   \n",
       "1270      22015  1610612739               CLE  Cleveland Cavaliers  21500601   \n",
       "...         ...         ...               ...                  ...       ...   \n",
       "7248      22013  1610612739               CLE  Cleveland Cavaliers  21300066   \n",
       "7282      22013  1610612739               CLE  Cleveland Cavaliers  21300047   \n",
       "7303      22013  1610612739               CLE  Cleveland Cavaliers  21300033   \n",
       "7316      22013  1610612739               CLE  Cleveland Cavaliers  21300020   \n",
       "7355      22013  1610612739               CLE  Cleveland Cavaliers  21300004   \n",
       "\n",
       "       GAME_DATE      MATCHUP WL  MIN  PTS  ...  FT_PCT  OREB  DREB  REB  AST  \\\n",
       "1143  2016-01-23  CLE vs. CHI  L  241   83  ...   0.409    16    32   48   17   \n",
       "1176  2016-01-21  CLE vs. LAC  W  239  115  ...   0.750    14    33   47   29   \n",
       "1195  2016-01-20    CLE @ BKN  W  240   91  ...   0.700     6    39   45   15   \n",
       "1218  2016-01-18  CLE vs. GSW  L  240   98  ...   0.680     8    28   36   22   \n",
       "1270  2016-01-15    CLE @ HOU  W  241   91  ...   0.652    17    32   49   19   \n",
       "...          ...          ... ..  ...  ...  ...     ...   ...   ...  ...  ...   \n",
       "7248  2013-11-06    CLE @ MIL  L  240  104  ...   0.727    12    27   39   20   \n",
       "7282  2013-11-04  CLE vs. MIN  W  240   93  ...   0.909    11    38   49   22   \n",
       "7303  2013-11-02    CLE @ IND  L  240   74  ...   0.867     6    31   37   11   \n",
       "7316  2013-11-01    CLE @ CHA  L  241   84  ...   0.727    11    31   42   14   \n",
       "7355  2013-10-30  CLE vs. BKN  W  241   98  ...   0.676    16    32   48   21   \n",
       "\n",
       "      STL  BLK  TOV  PF  PLUS_MINUS  \n",
       "1143    5    5    4  18       -13.0  \n",
       "1176    5    2   13  31        13.0  \n",
       "1195    6    3   13  13        13.0  \n",
       "1218    3    4   15  25       -34.0  \n",
       "1270   10    6   14  24        14.0  \n",
       "...   ...  ...  ...  ..         ...  \n",
       "7248   10    2    9  21        -5.0  \n",
       "7282   10   12   23  24         1.0  \n",
       "7303   15    1   16  25       -15.0  \n",
       "7316    9    1   17  29        -6.0  \n",
       "7355    7    3   11  20         4.0  \n",
       "\n",
       "[206 rows x 28 columns]"
      ]
     },
     "execution_count": 50,
     "metadata": {},
     "output_type": "execute_result"
    }
   ],
   "source": [
    "df_CLE = df_15[df_15[\"TEAM_ABBREVIATION\"] == \"CLE\"]\n",
    "\n",
    "#by date:\n",
    "df_after = df_CLE[(df_CLE['GAME_DATE'] > '2016-01-24')]\n",
    "df_before = df_CLE[(df_CLE['GAME_DATE'] <= '2016-01-24')]\n",
    "df_before_all = df[(df[\"TEAM_ABBREVIATION\"] == \"CLE\")&(df['GAME_DATE'] < '2016-01-24')] #all seasons\n",
    "df_before_all"
   ]
  },
  {
   "cell_type": "code",
   "execution_count": 36,
   "metadata": {},
   "outputs": [
    {
     "data": {
      "text/plain": [
       "<PandasArray>\n",
       "[110, 109, 102, 109, 109, 112, 110, 107, 100, 107,  95, 113, 124, 101, 109,\n",
       "  99,  85, 114, 120, 120, 103, 120, 108, 100,  99,  97, 114,  88, 115, 106,\n",
       " 120, 120,  99, 103,  97, 111, 117, 114, 115, 114]\n",
       "Length: 40, dtype: int64"
      ]
     },
     "execution_count": 36,
     "metadata": {},
     "output_type": "execute_result"
    }
   ],
   "source": [
    "#st.ttest_ind(a, b) <- need to make the samples the same for the ttest\n",
    "df_after.PTS.array"
   ]
  },
  {
   "cell_type": "code",
   "execution_count": 37,
   "metadata": {},
   "outputs": [
    {
     "data": {
      "text/plain": [
       "<PandasArray>\n",
       "[ 83, 115,  91,  98,  91,  95, 110,  95, 125, 121, 122, 104,  93, 101,  76,\n",
       "  83,  91, 108, 104,  89, 111, 105,  84, 108,  85,  90,  95,  99, 117, 109,\n",
       " 115,  99, 105,  90, 118, 101, 108,  96, 107, 102, 106,  95]\n",
       "Length: 42, dtype: int64"
      ]
     },
     "execution_count": 37,
     "metadata": {},
     "output_type": "execute_result"
    }
   ],
   "source": [
    "df_before.PTS.array"
   ]
  },
  {
   "cell_type": "code",
   "execution_count": 41,
   "metadata": {},
   "outputs": [
    {
     "data": {
      "text/plain": [
       "<PandasArray>\n",
       "[ 83, 115,  91,  98,  91,  95, 110,  95, 125, 121, 122, 104,  93, 101,  76,\n",
       "  83,  91, 108, 104,  89, 111, 105,  84, 108,  85,  90,  95,  99, 117, 109,\n",
       " 115,  99, 105,  90, 118, 101, 108,  96, 107, 102]\n",
       "Length: 40, dtype: int64"
      ]
     },
     "execution_count": 41,
     "metadata": {},
     "output_type": "execute_result"
    }
   ],
   "source": [
    "# len of before is 42, after is 40. Need to remove 2 rows of data from before\n",
    "df_before_40 = df_before.iloc[:-1,:].iloc[:-1,:]\n",
    "df_before_40.PTS.array"
   ]
  },
  {
   "cell_type": "code",
   "execution_count": 43,
   "metadata": {},
   "outputs": [
    {
     "data": {
      "text/plain": [
       "Ttest_indResult(statistic=-2.911228614180665, pvalue=0.00469146960112461)"
      ]
     },
     "execution_count": 43,
     "metadata": {},
     "output_type": "execute_result"
    }
   ],
   "source": [
    "st.ttest_ind(df_before_40[\"PTS\"], df_after[\"PTS\"])"
   ]
  },
  {
   "cell_type": "code",
   "execution_count": 51,
   "metadata": {},
   "outputs": [
    {
     "data": {
      "text/plain": [
       "<PandasArray>\n",
       "[ 83, 115,  91,  98,  91,  95, 110,  95, 125, 121,\n",
       " ...\n",
       "  80,  95,  81, 127,  79, 104,  93,  74,  84,  98]\n",
       "Length: 206, dtype: int64"
      ]
     },
     "execution_count": 51,
     "metadata": {},
     "output_type": "execute_result"
    }
   ],
   "source": [
    "df_before_all.PTS.array"
   ]
  },
  {
   "cell_type": "code",
   "execution_count": 46,
   "metadata": {},
   "outputs": [
    {
     "data": {
      "text/plain": [
       "KruskalResult(statistic=8.070296682814282, pvalue=0.004499674880811304)"
      ]
     },
     "execution_count": 46,
     "metadata": {},
     "output_type": "execute_result"
    }
   ],
   "source": [
    "#The other method:\n",
    "st.kruskal(df_before[\"PTS\"], df_after[\"PTS\"])"
   ]
  },
  {
   "cell_type": "code",
   "execution_count": 62,
   "metadata": {},
   "outputs": [],
   "source": [
    "#The null Hyp is that the pts before and after are of the same distribution\n",
    "#since p-val is < 0.05 we reject null\n",
    "#***********this doesn't really make sense. You could say the null is that they are the same or different.\n",
    "#it's significant if the p-val is less than 0.05"
   ]
  },
  {
   "cell_type": "code",
   "execution_count": 57,
   "metadata": {},
   "outputs": [
    {
     "data": {
      "image/png": "[encoded data removed]",
      "text/plain": [
       "<Figure size 432x288 with 1 Axes>"
      ]
     },
     "metadata": {
      "needs_background": "light"
     },
     "output_type": "display_data"
    }
   ],
   "source": [
    "# Plot the data\n",
    "import matplotlib.pyplot as plt\n",
    "plt.hist(df_before_all[\"PTS\"],bins=30)\n",
    "plt.hist(df_after[\"PTS\"],bins=30)\n",
    "plt.legend(('with Blatt','AFTER Blatt'))\n",
    "plt.show()"
   ]
  },
  {
   "cell_type": "markdown",
   "metadata": {},
   "source": [
    "----------------\n",
    "\n",
    "\n",
    "### Task 4\n",
    "Download [**the similar dataset**](https://drive.google.com/file/d/0Bz9_0VdXvv9bRHhuRTI1aXBQcTA/view?usp=sharing&resourcekey=0-jGIaWyk0bXyECNSzB3x38w) with scores from playoff games in 2016."
   ]
  },
  {
   "cell_type": "code",
   "execution_count": 59,
   "metadata": {},
   "outputs": [
    {
     "data": {
      "text/html": [
       "<div>\n",
       "<style scoped>\n",
       "    .dataframe tbody tr th:only-of-type {\n",
       "        vertical-align: middle;\n",
       "    }\n",
       "\n",
       "    .dataframe tbody tr th {\n",
       "        vertical-align: top;\n",
       "    }\n",
       "\n",
       "    .dataframe thead th {\n",
       "        text-align: right;\n",
       "    }\n",
       "</style>\n",
       "<table border=\"1\" class=\"dataframe\">\n",
       "  <thead>\n",
       "    <tr style=\"text-align: right;\">\n",
       "      <th></th>\n",
       "      <th>SEASON_ID</th>\n",
       "      <th>TEAM_ID</th>\n",
       "      <th>TEAM_ABBREVIATION</th>\n",
       "      <th>TEAM_NAME</th>\n",
       "      <th>GAME_ID</th>\n",
       "      <th>GAME_DATE</th>\n",
       "      <th>MATCHUP</th>\n",
       "      <th>WL</th>\n",
       "      <th>MIN</th>\n",
       "      <th>PTS</th>\n",
       "      <th>...</th>\n",
       "      <th>FT_PCT</th>\n",
       "      <th>OREB</th>\n",
       "      <th>DREB</th>\n",
       "      <th>REB</th>\n",
       "      <th>AST</th>\n",
       "      <th>STL</th>\n",
       "      <th>BLK</th>\n",
       "      <th>TOV</th>\n",
       "      <th>PF</th>\n",
       "      <th>PLUS_MINUS</th>\n",
       "    </tr>\n",
       "  </thead>\n",
       "  <tbody>\n",
       "    <tr>\n",
       "      <th>0</th>\n",
       "      <td>42015</td>\n",
       "      <td>1610612739</td>\n",
       "      <td>CLE</td>\n",
       "      <td>Cleveland Cavaliers</td>\n",
       "      <td>41500407</td>\n",
       "      <td>2016-06-19</td>\n",
       "      <td>CLE @ GSW</td>\n",
       "      <td>W</td>\n",
       "      <td>241</td>\n",
       "      <td>93</td>\n",
       "      <td>...</td>\n",
       "      <td>0.840</td>\n",
       "      <td>9</td>\n",
       "      <td>39</td>\n",
       "      <td>48</td>\n",
       "      <td>17</td>\n",
       "      <td>7</td>\n",
       "      <td>6</td>\n",
       "      <td>11</td>\n",
       "      <td>15</td>\n",
       "      <td>4.0</td>\n",
       "    </tr>\n",
       "    <tr>\n",
       "      <th>1</th>\n",
       "      <td>42015</td>\n",
       "      <td>1610612744</td>\n",
       "      <td>GSW</td>\n",
       "      <td>Golden State Warriors</td>\n",
       "      <td>41500407</td>\n",
       "      <td>2016-06-19</td>\n",
       "      <td>GSW vs. CLE</td>\n",
       "      <td>L</td>\n",
       "      <td>239</td>\n",
       "      <td>89</td>\n",
       "      <td>...</td>\n",
       "      <td>0.769</td>\n",
       "      <td>7</td>\n",
       "      <td>32</td>\n",
       "      <td>39</td>\n",
       "      <td>22</td>\n",
       "      <td>7</td>\n",
       "      <td>5</td>\n",
       "      <td>10</td>\n",
       "      <td>23</td>\n",
       "      <td>-4.0</td>\n",
       "    </tr>\n",
       "    <tr>\n",
       "      <th>2</th>\n",
       "      <td>42015</td>\n",
       "      <td>1610612744</td>\n",
       "      <td>GSW</td>\n",
       "      <td>Golden State Warriors</td>\n",
       "      <td>41500406</td>\n",
       "      <td>2016-06-16</td>\n",
       "      <td>GSW @ CLE</td>\n",
       "      <td>L</td>\n",
       "      <td>238</td>\n",
       "      <td>101</td>\n",
       "      <td>...</td>\n",
       "      <td>0.690</td>\n",
       "      <td>9</td>\n",
       "      <td>26</td>\n",
       "      <td>35</td>\n",
       "      <td>19</td>\n",
       "      <td>5</td>\n",
       "      <td>3</td>\n",
       "      <td>14</td>\n",
       "      <td>25</td>\n",
       "      <td>-14.0</td>\n",
       "    </tr>\n",
       "    <tr>\n",
       "      <th>3</th>\n",
       "      <td>42015</td>\n",
       "      <td>1610612739</td>\n",
       "      <td>CLE</td>\n",
       "      <td>Cleveland Cavaliers</td>\n",
       "      <td>41500406</td>\n",
       "      <td>2016-06-16</td>\n",
       "      <td>CLE vs. GSW</td>\n",
       "      <td>W</td>\n",
       "      <td>240</td>\n",
       "      <td>115</td>\n",
       "      <td>...</td>\n",
       "      <td>0.781</td>\n",
       "      <td>8</td>\n",
       "      <td>37</td>\n",
       "      <td>45</td>\n",
       "      <td>24</td>\n",
       "      <td>12</td>\n",
       "      <td>7</td>\n",
       "      <td>10</td>\n",
       "      <td>25</td>\n",
       "      <td>14.0</td>\n",
       "    </tr>\n",
       "    <tr>\n",
       "      <th>4</th>\n",
       "      <td>42015</td>\n",
       "      <td>1610612739</td>\n",
       "      <td>CLE</td>\n",
       "      <td>Cleveland Cavaliers</td>\n",
       "      <td>41500405</td>\n",
       "      <td>2016-06-13</td>\n",
       "      <td>CLE @ GSW</td>\n",
       "      <td>W</td>\n",
       "      <td>241</td>\n",
       "      <td>112</td>\n",
       "      <td>...</td>\n",
       "      <td>0.609</td>\n",
       "      <td>8</td>\n",
       "      <td>33</td>\n",
       "      <td>41</td>\n",
       "      <td>15</td>\n",
       "      <td>11</td>\n",
       "      <td>9</td>\n",
       "      <td>16</td>\n",
       "      <td>22</td>\n",
       "      <td>15.0</td>\n",
       "    </tr>\n",
       "    <tr>\n",
       "      <th>...</th>\n",
       "      <td>...</td>\n",
       "      <td>...</td>\n",
       "      <td>...</td>\n",
       "      <td>...</td>\n",
       "      <td>...</td>\n",
       "      <td>...</td>\n",
       "      <td>...</td>\n",
       "      <td>...</td>\n",
       "      <td>...</td>\n",
       "      <td>...</td>\n",
       "      <td>...</td>\n",
       "      <td>...</td>\n",
       "      <td>...</td>\n",
       "      <td>...</td>\n",
       "      <td>...</td>\n",
       "      <td>...</td>\n",
       "      <td>...</td>\n",
       "      <td>...</td>\n",
       "      <td>...</td>\n",
       "      <td>...</td>\n",
       "      <td>...</td>\n",
       "    </tr>\n",
       "    <tr>\n",
       "      <th>167</th>\n",
       "      <td>42015</td>\n",
       "      <td>1610612760</td>\n",
       "      <td>OKC</td>\n",
       "      <td>Oklahoma City Thunder</td>\n",
       "      <td>41500161</td>\n",
       "      <td>2016-04-16</td>\n",
       "      <td>OKC vs. DAL</td>\n",
       "      <td>W</td>\n",
       "      <td>243</td>\n",
       "      <td>108</td>\n",
       "      <td>...</td>\n",
       "      <td>0.857</td>\n",
       "      <td>14</td>\n",
       "      <td>42</td>\n",
       "      <td>56</td>\n",
       "      <td>23</td>\n",
       "      <td>7</td>\n",
       "      <td>6</td>\n",
       "      <td>18</td>\n",
       "      <td>25</td>\n",
       "      <td>38.0</td>\n",
       "    </tr>\n",
       "    <tr>\n",
       "      <th>168</th>\n",
       "      <td>42015</td>\n",
       "      <td>1610612737</td>\n",
       "      <td>ATL</td>\n",
       "      <td>Atlanta Hawks</td>\n",
       "      <td>41500131</td>\n",
       "      <td>2016-04-16</td>\n",
       "      <td>ATL vs. BOS</td>\n",
       "      <td>W</td>\n",
       "      <td>238</td>\n",
       "      <td>102</td>\n",
       "      <td>...</td>\n",
       "      <td>0.771</td>\n",
       "      <td>13</td>\n",
       "      <td>40</td>\n",
       "      <td>53</td>\n",
       "      <td>23</td>\n",
       "      <td>4</td>\n",
       "      <td>9</td>\n",
       "      <td>11</td>\n",
       "      <td>20</td>\n",
       "      <td>1.0</td>\n",
       "    </tr>\n",
       "    <tr>\n",
       "      <th>169</th>\n",
       "      <td>42015</td>\n",
       "      <td>1610612745</td>\n",
       "      <td>HOU</td>\n",
       "      <td>Houston Rockets</td>\n",
       "      <td>41500141</td>\n",
       "      <td>2016-04-16</td>\n",
       "      <td>HOU @ GSW</td>\n",
       "      <td>L</td>\n",
       "      <td>240</td>\n",
       "      <td>78</td>\n",
       "      <td>...</td>\n",
       "      <td>0.500</td>\n",
       "      <td>13</td>\n",
       "      <td>38</td>\n",
       "      <td>51</td>\n",
       "      <td>16</td>\n",
       "      <td>10</td>\n",
       "      <td>6</td>\n",
       "      <td>24</td>\n",
       "      <td>28</td>\n",
       "      <td>-26.0</td>\n",
       "    </tr>\n",
       "    <tr>\n",
       "      <th>170</th>\n",
       "      <td>42015</td>\n",
       "      <td>1610612742</td>\n",
       "      <td>DAL</td>\n",
       "      <td>Dallas Mavericks</td>\n",
       "      <td>41500161</td>\n",
       "      <td>2016-04-16</td>\n",
       "      <td>DAL @ OKC</td>\n",
       "      <td>L</td>\n",
       "      <td>238</td>\n",
       "      <td>70</td>\n",
       "      <td>...</td>\n",
       "      <td>0.615</td>\n",
       "      <td>9</td>\n",
       "      <td>24</td>\n",
       "      <td>33</td>\n",
       "      <td>16</td>\n",
       "      <td>5</td>\n",
       "      <td>0</td>\n",
       "      <td>12</td>\n",
       "      <td>25</td>\n",
       "      <td>-38.0</td>\n",
       "    </tr>\n",
       "    <tr>\n",
       "      <th>171</th>\n",
       "      <td>42015</td>\n",
       "      <td>1610612738</td>\n",
       "      <td>BOS</td>\n",
       "      <td>Boston Celtics</td>\n",
       "      <td>41500131</td>\n",
       "      <td>2016-04-16</td>\n",
       "      <td>BOS @ ATL</td>\n",
       "      <td>L</td>\n",
       "      <td>239</td>\n",
       "      <td>101</td>\n",
       "      <td>...</td>\n",
       "      <td>0.842</td>\n",
       "      <td>15</td>\n",
       "      <td>35</td>\n",
       "      <td>50</td>\n",
       "      <td>27</td>\n",
       "      <td>6</td>\n",
       "      <td>6</td>\n",
       "      <td>10</td>\n",
       "      <td>32</td>\n",
       "      <td>-1.0</td>\n",
       "    </tr>\n",
       "  </tbody>\n",
       "</table>\n",
       "<p>172 rows × 28 columns</p>\n",
       "</div>"
      ],
      "text/plain": [
       "     SEASON_ID     TEAM_ID TEAM_ABBREVIATION              TEAM_NAME   GAME_ID  \\\n",
       "0        42015  1610612739               CLE    Cleveland Cavaliers  41500407   \n",
       "1        42015  1610612744               GSW  Golden State Warriors  41500407   \n",
       "2        42015  1610612744               GSW  Golden State Warriors  41500406   \n",
       "3        42015  1610612739               CLE    Cleveland Cavaliers  41500406   \n",
       "4        42015  1610612739               CLE    Cleveland Cavaliers  41500405   \n",
       "..         ...         ...               ...                    ...       ...   \n",
       "167      42015  1610612760               OKC  Oklahoma City Thunder  41500161   \n",
       "168      42015  1610612737               ATL          Atlanta Hawks  41500131   \n",
       "169      42015  1610612745               HOU        Houston Rockets  41500141   \n",
       "170      42015  1610612742               DAL       Dallas Mavericks  41500161   \n",
       "171      42015  1610612738               BOS         Boston Celtics  41500131   \n",
       "\n",
       "      GAME_DATE      MATCHUP WL  MIN  PTS  ...  FT_PCT  OREB  DREB  REB  AST  \\\n",
       "0    2016-06-19    CLE @ GSW  W  241   93  ...   0.840     9    39   48   17   \n",
       "1    2016-06-19  GSW vs. CLE  L  239   89  ...   0.769     7    32   39   22   \n",
       "2    2016-06-16    GSW @ CLE  L  238  101  ...   0.690     9    26   35   19   \n",
       "3    2016-06-16  CLE vs. GSW  W  240  115  ...   0.781     8    37   45   24   \n",
       "4    2016-06-13    CLE @ GSW  W  241  112  ...   0.609     8    33   41   15   \n",
       "..          ...          ... ..  ...  ...  ...     ...   ...   ...  ...  ...   \n",
       "167  2016-04-16  OKC vs. DAL  W  243  108  ...   0.857    14    42   56   23   \n",
       "168  2016-04-16  ATL vs. BOS  W  238  102  ...   0.771    13    40   53   23   \n",
       "169  2016-04-16    HOU @ GSW  L  240   78  ...   0.500    13    38   51   16   \n",
       "170  2016-04-16    DAL @ OKC  L  238   70  ...   0.615     9    24   33   16   \n",
       "171  2016-04-16    BOS @ ATL  L  239  101  ...   0.842    15    35   50   27   \n",
       "\n",
       "     STL  BLK  TOV  PF  PLUS_MINUS  \n",
       "0      7    6   11  15         4.0  \n",
       "1      7    5   10  23        -4.0  \n",
       "2      5    3   14  25       -14.0  \n",
       "3     12    7   10  25        14.0  \n",
       "4     11    9   16  22        15.0  \n",
       "..   ...  ...  ...  ..         ...  \n",
       "167    7    6   18  25        38.0  \n",
       "168    4    9   11  20         1.0  \n",
       "169   10    6   24  28       -26.0  \n",
       "170    5    0   12  25       -38.0  \n",
       "171    6    6   10  32        -1.0  \n",
       "\n",
       "[172 rows x 28 columns]"
      ]
     },
     "execution_count": 59,
     "metadata": {},
     "output_type": "execute_result"
    }
   ],
   "source": [
    "df_playoffs16 = pd.read_csv(\"nba_playoff_games_2016.csv\", delimiter =\";\")\n",
    "df_playoffs16"
   ]
  },
  {
   "cell_type": "markdown",
   "metadata": {},
   "source": [
    "------------\n",
    "### Task 5\n",
    "Test the hypothesis that **number of blocks (BLK)** are from the same distribution in both the NBA playoffs and in the NBA regular season for 2015/2016 seaon for the **Toronto Raptors**. \n",
    "\n",
    "- We will be working with two samples with different sizes again."
   ]
  },
  {
   "cell_type": "code",
   "execution_count": null,
   "metadata": {},
   "outputs": [],
   "source": [
    "#use krusal test ex) st.kruskal(df_before[\"PTS\"], df_after[\"PTS\"])"
   ]
  },
  {
   "cell_type": "code",
   "execution_count": 60,
   "metadata": {},
   "outputs": [],
   "source": [
    "#results only for TOR\n",
    "df_playoffs_TOR = df_playoffs16[df_playoffs16[\"TEAM_ABBREVIATION\"] == \"TOR\"] # 20 rows\n",
    "df_15_TOR = df_15[df_15[\"TEAM_ABBREVIATION\"] == \"TOR\"] # 82 rows"
   ]
  },
  {
   "cell_type": "code",
   "execution_count": 61,
   "metadata": {},
   "outputs": [
    {
     "data": {
      "text/plain": [
       "KruskalResult(statistic=7.483641456983013, pvalue=0.006226202691250736)"
      ]
     },
     "execution_count": 61,
     "metadata": {},
     "output_type": "execute_result"
    }
   ],
   "source": [
    "st.kruskal(df_playoffs_TOR[\"BLK\"], df_15_TOR[\"BLK\"])"
   ]
  },
  {
   "cell_type": "code",
   "execution_count": 101,
   "metadata": {},
   "outputs": [],
   "source": [
    "#p-val is less than 0.05, so we can reject the null. They are not of the same dist."
   ]
  },
  {
   "cell_type": "code",
   "execution_count": 62,
   "metadata": {},
   "outputs": [
    {
     "data": {
      "image/png": "[encoded data removed]",
      "text/plain": [
       "<Figure size 432x288 with 1 Axes>"
      ]
     },
     "metadata": {
      "needs_background": "light"
     },
     "output_type": "display_data"
    }
   ],
   "source": [
    "bins = range(max(df_15_TOR[\"BLK\"])-min(df_15_TOR[\"BLK\"]))\n",
    "plt.hist(df_15_TOR[\"BLK\"],bins=bins)\n",
    "plt.hist(df_playoffs_TOR[\"BLK\"],bins=bins)\n",
    "plt.legend(('regular season','playoffs'))\n",
    "plt.show()"
   ]
  },
  {
   "cell_type": "markdown",
   "metadata": {},
   "source": [
    "\n",
    "-----------------\n",
    "### Task 6\n",
    "Test the hypothesis that the number of points (PTS) scored by Cleveland Cavaliers is equally distributed for all 3 seasons. \n",
    "\n",
    "- In this case, we need a hypothesis test that compares more than 2 distributions at the same. (You will need to go through the scipy documentation or google to figure out what kind of test is required.)"
   ]
  },
  {
   "cell_type": "code",
   "execution_count": null,
   "metadata": {},
   "outputs": [],
   "source": [
    "#any p-val of greater than 0.05 means that it has equal dist. \n",
    "#one way anova - f_oneway(performance1, performance2, performance)"
   ]
  },
  {
   "cell_type": "code",
   "execution_count": 102,
   "metadata": {},
   "outputs": [],
   "source": [
    "# df_CLE is for the 15 season\n",
    "df_CLE_14 = df_14[df_14[\"TEAM_ABBREVIATION\"] == \"CLE\"]\n",
    "df_CLE_13 = df_13[df_13[\"TEAM_ABBREVIATION\"] == \"CLE\"]"
   ]
  },
  {
   "cell_type": "code",
   "execution_count": 108,
   "metadata": {},
   "outputs": [
    {
     "data": {
      "text/plain": [
       "F_onewayResult(statistic=5.9200250318080885, pvalue=0.003087727119983984)"
      ]
     },
     "execution_count": 108,
     "metadata": {},
     "output_type": "execute_result"
    }
   ],
   "source": [
    "st.f_oneway(df_CLE[\"PTS\"], df_CLE_14[\"PTS\"], df_CLE_13[\"PTS\"])"
   ]
  },
  {
   "cell_type": "code",
   "execution_count": 109,
   "metadata": {},
   "outputs": [],
   "source": [
    "# p-val is less than 0.05 so we can reject the null hyp and say that they are not all equally distributed."
   ]
  },
  {
   "cell_type": "markdown",
   "metadata": {},
   "source": [
    "#### Follow Up\n",
    "**Between which seasons can we see the significant difference?**\n",
    "\n",
    "+ Unfortunatelly, this is not the output of an ANOVA test and further tests are needed to be run.\n",
    "+ Note: Lebron James came back to the Cleveland Caveliers prior to season 2014/2015. We can use this fact to interpret our results correctly."
   ]
  },
  {
   "cell_type": "code",
   "execution_count": null,
   "metadata": {},
   "outputs": [],
   "source": [
    "# do a ttest for each of the season combos"
   ]
  },
  {
   "cell_type": "code",
   "execution_count": 110,
   "metadata": {},
   "outputs": [
    {
     "data": {
      "text/plain": [
       "Ttest_indResult(statistic=2.508958204796911, pvalue=0.013091680534336523)"
      ]
     },
     "execution_count": 110,
     "metadata": {},
     "output_type": "execute_result"
    }
   ],
   "source": [
    "#13 & 14\n",
    "st.ttest_ind(df_CLE_14[\"PTS\"], df_CLE_13[\"PTS\"])"
   ]
  },
  {
   "cell_type": "code",
   "execution_count": 115,
   "metadata": {},
   "outputs": [
    {
     "data": {
      "text/plain": [
       "True"
      ]
     },
     "execution_count": 115,
     "metadata": {},
     "output_type": "execute_result"
    }
   ],
   "source": [
    "#p-val is less than 0.05 so we can say that the 13 and 14 seasons are NOT equally distributed\n",
    "0.05 > 0.013091680534336523"
   ]
  },
  {
   "cell_type": "code",
   "execution_count": 112,
   "metadata": {},
   "outputs": [
    {
     "data": {
      "text/plain": [
       "Ttest_indResult(statistic=3.339057501969076, pvalue=0.001043164899206325)"
      ]
     },
     "execution_count": 112,
     "metadata": {},
     "output_type": "execute_result"
    }
   ],
   "source": [
    "#13 & 15\n",
    "st.ttest_ind(df_CLE[\"PTS\"], df_CLE_13[\"PTS\"])"
   ]
  },
  {
   "cell_type": "code",
   "execution_count": 116,
   "metadata": {},
   "outputs": [
    {
     "data": {
      "text/plain": [
       "True"
      ]
     },
     "execution_count": 116,
     "metadata": {},
     "output_type": "execute_result"
    }
   ],
   "source": [
    "#p-val is less than 0.05 so we can say that the 13 and 15 seasons are NOT equally distributed\n",
    "0.05 > 0.001043164899206325"
   ]
  },
  {
   "cell_type": "code",
   "execution_count": 111,
   "metadata": {},
   "outputs": [
    {
     "data": {
      "text/plain": [
       "Ttest_indResult(statistic=0.6442093460555935, pvalue=0.5203507617734474)"
      ]
     },
     "execution_count": 111,
     "metadata": {},
     "output_type": "execute_result"
    }
   ],
   "source": [
    "#14 & 15\n",
    "st.ttest_ind(df_CLE[\"PTS\"], df_CLE_14[\"PTS\"])"
   ]
  },
  {
   "cell_type": "code",
   "execution_count": 118,
   "metadata": {},
   "outputs": [
    {
     "data": {
      "text/plain": [
       "False"
      ]
     },
     "execution_count": 118,
     "metadata": {},
     "output_type": "execute_result"
    }
   ],
   "source": [
    "#p-val is greater than 0.05 so we can say that the 15 and 14 seasons are equally distributed\n",
    "0.05 > 0.5203507617734474"
   ]
  },
  {
   "cell_type": "code",
   "execution_count": 121,
   "metadata": {},
   "outputs": [],
   "source": [
    "#labron was not on the team for 14/15 and 15/16 and this is why the 13/14 season is different. "
   ]
  },
  {
   "cell_type": "code",
   "execution_count": null,
   "metadata": {},
   "outputs": [],
   "source": []
  }
 ],
 "metadata": {
  "kernelspec": {
   "display_name": "lighthouse_env",
   "language": "python",
   "name": "lighthouse_env"
  },
  "language_info": {
   "codemirror_mode": {
    "name": "ipython",
    "version": 3
   },
   "file_extension": ".py",
   "mimetype": "text/x-python",
   "name": "python",
   "nbconvert_exporter": "python",
   "pygments_lexer": "ipython3",
   "version": "3.9.13"
  }
 },
 "nbformat": 4,
 "nbformat_minor": 4
}
