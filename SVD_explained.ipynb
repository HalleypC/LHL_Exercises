{
 "cells": [
  {
   "cell_type": "markdown",
   "id": "58c5a7a1-6359-4467-bed9-2ae02344172d",
   "metadata": {},
   "source": [
    "# SVD Explained\n",
    "https://machinelearningmastery.com/singular-value-decomposition-for-machine-learning/\n",
    "& https://numpy.org/doc/stable/reference/generated/numpy.linalg.svd.html\n",
    "\n",
    "The Singular-Value Decomposition, or SVD for short, is a matrix decomposition method for reducing a matrix to its constituent parts in order to make certain subsequent matrix calculations simpler.\n",
    "\n",
    "For the case of simplicity we will focus on the SVD for real-valued matrices and ignore the case for complex numbers.\n",
    "\n",
    "The SVD allows us to discover some of the same kind of information as the eigendecomposition. However, the SVD is more generally applicable.\n",
    "The SVD is used widely both in the calculation of other matrix operations, such as matrix inverse, but also as a data reduction method in machine learning. SVD can also be used in least squares linear regression, image compression, and denoising data."
   ]
  },
  {
   "cell_type": "code",
   "execution_count": 44,
   "id": "9298b743-9c37-48c4-8548-058d74267dfa",
   "metadata": {},
   "outputs": [],
   "source": [
    "import numpy as np\n",
    "from numpy import array\n",
    "from numpy import diag\n",
    "from numpy import dot\n",
    "from numpy import zeros\n",
    "from scipy.linalg import svd       #can also use svd from numpy"
   ]
  },
  {
   "cell_type": "code",
   "execution_count": 6,
   "id": "a8e6e76c-e474-468a-aa69-6526d144e96a",
   "metadata": {
    "tags": []
   },
   "outputs": [],
   "source": [
    "A = np.random.rand(30, 10)"
   ]
  },
  {
   "cell_type": "code",
   "execution_count": 9,
   "id": "8717111b-96eb-4f82-96fe-0a154f883318",
   "metadata": {},
   "outputs": [],
   "source": [
    "U, s, VT = svd(A)     # The function takes a matrix and returns the U, Sigma and V^T elements.\n",
    "                      # numpy documentation: \n",
    "                           # If a has more than two dimensions, then broadcasting rules apply\n",
    "                           # This means that SVD is working in “stacked” mode: it iterates over all indices of the first (a.ndim - 2)  \n",
    "                           # dimensions and for each combination SVD is applied to the last two indices.\n",
    "                           # If a is a matrix object (as opposed to an ndarray), then so are all the return values."
   ]
  },
  {
   "cell_type": "code",
   "execution_count": 11,
   "id": "12684ce1-3704-48af-846a-8bcfe5866b70",
   "metadata": {},
   "outputs": [
    {
     "data": {
      "text/plain": [
       "(30, 30)"
      ]
     },
     "execution_count": 11,
     "metadata": {},
     "output_type": "execute_result"
    }
   ],
   "source": [
    "U.shape               # m x m matrix. columns are the left-singular vectors of A\n",
    "                      # numpy documentation: \n",
    "                           # columns are the eigenvectors of A*A^T\n",
    "                           # corresponding eigenvalues are s^2"
   ]
  },
  {
   "cell_type": "code",
   "execution_count": 12,
   "id": "0bdf2974-10b8-4eb8-939a-0b93770a0cd2",
   "metadata": {},
   "outputs": [
    {
     "data": {
      "text/plain": [
       "(10,)"
      ]
     },
     "execution_count": 12,
     "metadata": {},
     "output_type": "execute_result"
    }
   ],
   "source": [
    "s.shape               # The Sigma diagonal matrix is returned as a vector of singular values of A. s = np.diag(true sigma matrix)"
   ]
  },
  {
   "cell_type": "code",
   "execution_count": 13,
   "id": "eba62b2f-bd9d-4ceb-8b57-b76ca3d2e265",
   "metadata": {},
   "outputs": [
    {
     "data": {
      "text/plain": [
       "(10, 10)"
      ]
     },
     "execution_count": 13,
     "metadata": {},
     "output_type": "execute_result"
    }
   ],
   "source": [
    "VT.shape               # The V matrix is returned in a transposed form, n x n matrix \n",
    "                       # columns of V are the right singular vectors of A\n",
    "                       # numpy documentation:                \n",
    "                           # rows of VT are the eigenvectors of A^T*A (AKA cols of V)\n",
    "                           # corresponding eigenvalues are s^2"
   ]
  },
  {
   "cell_type": "markdown",
   "id": "cdf0d6da-24d9-4481-a97a-176c403c4de4",
   "metadata": {},
   "source": [
    "## Reconstructing A\n",
    "The U, s, and V elements returned from the svd() cannot be multiplied directly.\n",
    "\n",
    "### CASE 1) When m and n are not equal (not a square matrix)\n",
    "The s vector must be converted into a diagonal matrix using the diag() function. By default, this function will create a square matrix that is n x n, relative to our original matrix. This causes a problem as the size of the matrices do not fit the rules of matrix multiplication, where the number of columns in a matrix must match the number of rows in the subsequent matrix.\n",
    "\n",
    "We can resolve this by creating a new Sigma matrix of all zero values that is m x n (e.g. more rows) and populate the first n x n part of the matrix with the square diagonal matrix calculated via diag()."
   ]
  },
  {
   "cell_type": "code",
   "execution_count": 16,
   "id": "d99eb606-f657-4ce4-854f-c832deb3a01d",
   "metadata": {},
   "outputs": [
    {
     "name": "stdout",
     "output_type": "stream",
     "text": [
      "[[1 2]\n",
      " [3 4]\n",
      " [5 6]]\n"
     ]
    }
   ],
   "source": [
    "#let's make a smaller matrix to clearly see\n",
    "A = array([[1, 2], [3, 4], [5, 6]])\n",
    "print(A)\n",
    "\n",
    "U, s, VT = svd(A)"
   ]
  },
  {
   "cell_type": "code",
   "execution_count": 19,
   "id": "d52089cd-fdf4-4cf4-a5d6-02e88fe08153",
   "metadata": {},
   "outputs": [
    {
     "name": "stdout",
     "output_type": "stream",
     "text": [
      "[[-0.2298477   0.88346102  0.40824829]\n",
      " [-0.52474482  0.24078249 -0.81649658]\n",
      " [-0.81964194 -0.40189603  0.40824829]]\n",
      "[9.52551809 0.51430058]\n",
      "[[-0.61962948 -0.78489445]\n",
      " [-0.78489445  0.61962948]]\n"
     ]
    }
   ],
   "source": [
    "print(U)\n",
    "print(s)\n",
    "print(VT)"
   ]
  },
  {
   "cell_type": "code",
   "execution_count": 21,
   "id": "f1c6db90-2bf3-44e6-8447-2be0947e07a6",
   "metadata": {},
   "outputs": [
    {
     "name": "stdout",
     "output_type": "stream",
     "text": [
      "[[0. 0.]\n",
      " [0. 0.]\n",
      " [0. 0.]]\n",
      "[[9.52551809 0.        ]\n",
      " [0.         0.51430058]]\n",
      "[[1. 2.]\n",
      " [3. 4.]\n",
      " [5. 6.]]\n"
     ]
    }
   ],
   "source": [
    "Sigma = zeros((A.shape[0], A.shape[1]))         # create m x n Sigma matrix\n",
    "print(Sigma)\n",
    "Sigma[:A.shape[1], :A.shape[1]] = diag(s)       # populate Sigma with n x n diagonal matrix\n",
    "print(diag(s))\n",
    "B = U.dot(Sigma.dot(VT))                        # reconstruct matrix u*(sigma*vt)\n",
    "print(B)"
   ]
  },
  {
   "cell_type": "markdown",
   "id": "9e5b7e8d-6cba-41ad-b060-61874a14dd08",
   "metadata": {},
   "source": [
    "### CASE 2) When m and n are equal (square matrix)\n",
    "The above complication with the Sigma diagonal only exists with the case where m and n are not equal. The diagonal matrix can be used directly when reconstructing a square matrix, as follows"
   ]
  },
  {
   "cell_type": "code",
   "execution_count": 22,
   "id": "d79e8197-317e-4cb8-8f18-79f1907cca80",
   "metadata": {},
   "outputs": [
    {
     "name": "stdout",
     "output_type": "stream",
     "text": [
      "[[1 2 3]\n",
      " [4 5 6]\n",
      " [7 8 9]]\n"
     ]
    }
   ],
   "source": [
    "A = array([[1, 2, 3], [4, 5, 6], [7, 8, 9]])\n",
    "print(A)\n",
    "\n",
    "U, s, VT = svd(A)"
   ]
  },
  {
   "cell_type": "code",
   "execution_count": 23,
   "id": "95d786a0-8cc6-4e57-9105-470397f9d6c4",
   "metadata": {},
   "outputs": [
    {
     "name": "stdout",
     "output_type": "stream",
     "text": [
      "[[1.68481034e+01 0.00000000e+00 0.00000000e+00]\n",
      " [0.00000000e+00 1.06836951e+00 0.00000000e+00]\n",
      " [0.00000000e+00 0.00000000e+00 4.41842475e-16]]\n",
      "[[1. 2. 3.]\n",
      " [4. 5. 6.]\n",
      " [7. 8. 9.]]\n"
     ]
    }
   ],
   "source": [
    "Sigma = diag(s)                 # create n x n Sigma matrix\n",
    "print(Sigma)\n",
    "B = U.dot(Sigma.dot(VT))        # reconstruct matrix u*(sigma*vt)\n",
    "print(B)"
   ]
  },
  {
   "cell_type": "code",
   "execution_count": null,
   "id": "62915208-9f38-4db4-9171-2648751ad3c5",
   "metadata": {},
   "outputs": [],
   "source": [
    "Sigma.shape"
   ]
  },
  {
   "cell_type": "markdown",
   "id": "f63eb5d8-a602-42f2-9485-220c312afdba",
   "metadata": {},
   "source": [
    "### Numpy Documentation on Reconstruction\n",
    "The matrix a can be reconstructed from the decomposition with two methods. (The @ operator can be replaced by the function np.matmul for python versions below 3.5.)"
   ]
  },
  {
   "cell_type": "markdown",
   "id": "22bb709c-d315-4d73-bb8a-93e2565f8374",
   "metadata": {},
   "source": [
    "#### Reconstruction based on full SVD, 2D case:"
   ]
  },
  {
   "cell_type": "code",
   "execution_count": 33,
   "id": "c7d123ae-2eb3-41f0-b510-6871a60bf112",
   "metadata": {},
   "outputs": [
    {
     "data": {
      "text/plain": [
       "((9, 9), (6,), (6, 6))"
      ]
     },
     "execution_count": 33,
     "metadata": {},
     "output_type": "execute_result"
    }
   ],
   "source": [
    "A = np.random.randn(9, 6) + 1j*np.random.randn(9, 6)\n",
    "\n",
    "u, s, vt = np.linalg.svd(A, full_matrices=True)\n",
    "u.shape, s.shape, vt.shape"
   ]
  },
  {
   "cell_type": "code",
   "execution_count": 42,
   "id": "d62f580d-bda8-4136-9162-f1dd44cd2b62",
   "metadata": {
    "tags": []
   },
   "outputs": [
    {
     "data": {
      "text/plain": [
       "True"
      ]
     },
     "execution_count": 42,
     "metadata": {},
     "output_type": "execute_result"
    }
   ],
   "source": [
    "#RECON METHOD 1: (u * s[..., None, :]) @ vh\n",
    "A_recon1 = np.dot(u[:, :6] * s, vt)              # (u*s)*vt, transformed u from 9x9 to 9x6 to match with s and vt\n",
    "\n",
    "np.allclose(A, A_recon1)"
   ]
  },
  {
   "cell_type": "code",
   "execution_count": 38,
   "id": "c0c42070-b942-4f75-a979-139c0581224e",
   "metadata": {},
   "outputs": [
    {
     "data": {
      "text/plain": [
       "(9, 6)"
      ]
     },
     "execution_count": 38,
     "metadata": {},
     "output_type": "execute_result"
    }
   ],
   "source": [
    "u[:, :6].shape"
   ]
  },
  {
   "cell_type": "code",
   "execution_count": 37,
   "id": "4fb9df86-0c80-48db-ae41-bcb2c019283b",
   "metadata": {},
   "outputs": [
    {
     "data": {
      "text/plain": [
       "True"
      ]
     },
     "execution_count": 37,
     "metadata": {},
     "output_type": "execute_result"
    }
   ],
   "source": [
    "#RECON METHOD 2: u @ (s[..., None] * vh)                                    \n",
    "smat = np.zeros((9, 6), dtype=complex)           # create m x n Sigma matrix\n",
    "smat[:6, :6] = np.diag(s)                        # populate Sigma with n x n diagonal matrix\n",
    "\n",
    "A_recon2 = np.dot(u, np.dot(smat, vt))           # u*(sigma*vt)\n",
    "np.allclose(A, A_recon2)"
   ]
  },
  {
   "cell_type": "code",
   "execution_count": 43,
   "id": "79000166-34d8-4799-95e1-7cfb50ad8778",
   "metadata": {},
   "outputs": [
    {
     "data": {
      "text/plain": [
       "(9, 6)"
      ]
     },
     "execution_count": 43,
     "metadata": {},
     "output_type": "execute_result"
    }
   ],
   "source": [
    "smat.shape"
   ]
  },
  {
   "cell_type": "markdown",
   "id": "3e048f70-a468-4262-8603-78b43a35f093",
   "metadata": {},
   "source": [
    "### Reconstruction - SVD Walkthrough from Compass\n",
    "A is 150x50 (not a square) np.diag created a 50x50 sigma matrix for the reconstruction"
   ]
  },
  {
   "cell_type": "raw",
   "id": "fcdfecf9-5263-44d1-8ac4-8b8ef31c9114",
   "metadata": {},
   "source": [
    "With A.shape (150,50), np.diag(D) is (50,50)\n",
    "\n",
    "A_recon = A_rec = U.dot(np.diag(D)).dot(V)"
   ]
  },
  {
   "cell_type": "markdown",
   "id": "0ece0aed-83eb-437f-bfc3-d76d6e42d0cb",
   "metadata": {},
   "source": [
    "## SVD for Dimensionality Reduction\n",
    "Data with a large number of features, such as more features (columns) than observations (rows) may be reduced to a smaller subset of features that are most relevant to the prediction problem.\n",
    "\n",
    "The result is a matrix with a lower rank that is said to approximate the original matrix.\n",
    "\n",
    "To do this we can perform an SVD operation on the original data and select the top k largest singular values in Sigma. These columns can be selected from Sigma and the rows selected from V^T.\n",
    "\n",
    "***** these two methods are what is used in the exercise ********"
   ]
  },
  {
   "cell_type": "code",
   "execution_count": 24,
   "id": "2a153bd6-d95a-4746-b56d-67de3ddda16c",
   "metadata": {},
   "outputs": [
    {
     "name": "stdout",
     "output_type": "stream",
     "text": [
      "[[ 1  2  3  4  5  6  7  8  9 10]\n",
      " [11 12 13 14 15 16 17 18 19 20]\n",
      " [21 22 23 24 25 26 27 28 29 30]]\n"
     ]
    }
   ],
   "source": [
    "# define a matrix\n",
    "A = array([\n",
    "        [1,2,3,4,5,6,7,8,9,10],\n",
    "        [11,12,13,14,15,16,17,18,19,20],\n",
    "        [21,22,23,24,25,26,27,28,29,30]])\n",
    "print(A)\n",
    "# Singular-value decomposition\n",
    "U, s, VT = svd(A)"
   ]
  },
  {
   "cell_type": "code",
   "execution_count": 28,
   "id": "3f9f45d1-2d1d-49b1-8ebf-60ea108d8674",
   "metadata": {},
   "outputs": [
    {
     "name": "stdout",
     "output_type": "stream",
     "text": [
      "[[ 1.  2.  3.  4.  5.  6.  7.  8.  9. 10.]\n",
      " [11. 12. 13. 14. 15. 16. 17. 18. 19. 20.]\n",
      " [21. 22. 23. 24. 25. 26. 27. 28. 29. 30.]]\n",
      "[[-18.52157747  -6.47697214]\n",
      " [-49.81310011  -1.91182038]\n",
      " [-81.10462276   2.65333138]]\n",
      "[[-18.52157747  -6.47697214]\n",
      " [-49.81310011  -1.91182038]\n",
      " [-81.10462276   2.65333138]]\n"
     ]
    }
   ],
   "source": [
    "Sigma = zeros((A.shape[0], A.shape[1]))         # create m x n Sigma matrix\n",
    "\n",
    "Sigma[:A.shape[0], :A.shape[0]] = diag(s)       # populate Sigma with n x n diagonal matrix\n",
    "\n",
    "n_elements = 2                                  # select the number of k\n",
    "Sigma = Sigma[:, :n_elements]                   # k largest cols for sigma\n",
    "VT = VT[:n_elements, :]                         # k largest rows for VT\n",
    "\n",
    "B = U.dot(Sigma.dot(VT))                        # reconstruct\n",
    "print(B)\n",
    "\n",
    "T = U.dot(Sigma)                                # transform method 1 (U*Sigma)\n",
    "print(T)\n",
    "T = A.dot(VT.T)                                 # transform method 2 (A*V)      .T is a transpose function\n",
    "print(T)"
   ]
  },
  {
   "cell_type": "code",
   "execution_count": null,
   "id": "f4acd1bb-e4e8-411c-a25a-2deeb5cbc8ff",
   "metadata": {},
   "outputs": [],
   "source": []
  },
  {
   "cell_type": "code",
   "execution_count": null,
   "id": "7f8059be-cf6f-48f2-87ff-37a977c54e5d",
   "metadata": {},
   "outputs": [],
   "source": []
  }
 ],
 "metadata": {
  "kernelspec": {
   "display_name": "lighthouse_env",
   "language": "python",
   "name": "lighthouse_env"
  },
  "language_info": {
   "codemirror_mode": {
    "name": "ipython",
    "version": 3
   },
   "file_extension": ".py",
   "mimetype": "text/x-python",
   "name": "python",
   "nbconvert_exporter": "python",
   "pygments_lexer": "ipython3",
   "version": "3.9.13"
  }
 },
 "nbformat": 4,
 "nbformat_minor": 5
}
